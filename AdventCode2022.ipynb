{
  "nbformat": 4,
  "nbformat_minor": 0,
  "metadata": {
    "colab": {
      "provenance": [],
      "authorship_tag": "ABX9TyPw/1sPqiitlKRfCFCnP/7R",
      "include_colab_link": true
    },
    "kernelspec": {
      "name": "python3",
      "display_name": "Python 3"
    },
    "language_info": {
      "name": "python"
    }
  },
  "cells": [
    {
      "cell_type": "markdown",
      "metadata": {
        "id": "view-in-github",
        "colab_type": "text"
      },
      "source": [
        "<a href=\"https://colab.research.google.com/github/CarolinaDN/AdventCode2022/blob/main/AdventCode2022.ipynb\" target=\"_parent\"><img src=\"https://colab.research.google.com/assets/colab-badge.svg\" alt=\"Open In Colab\"/></a>"
      ]
    },
    {
      "cell_type": "markdown",
      "source": [
        "#Day 1: Calorie Counting\n"
      ],
      "metadata": {
        "id": "X15Z7vUvTSEU"
      }
    },
    {
      "cell_type": "markdown",
      "source": [
        "- To supply enough magical energy, the expedition needs to retrieve a minimum of fifty stars by December 25th\n",
        "- you decide to grab any fruit you see along the way, just in case.\n",
        "- the Elves' expedition traditionally goes on foot.\n",
        "-the Elves begin taking inventory of their supplies. One important consideration is food - in particular, the number of Calories each Elf is carrying (your puzzle input).\n",
        "-Each Elf separates their own inventory from the previous Elf's inventory (if any) by a blank line.\n",
        "\n",
        "Example: \n",
        "\n",
        "1000\n",
        "2000\n",
        "3000\n",
        "\n",
        "4000\n",
        "\n",
        "5000\n",
        "6000\n",
        "\n",
        "7000\n",
        "8000\n",
        "9000\n",
        "\n",
        "10000\n",
        "- In case the Elves get hungry and need extra snacks, they need to know which Elf to ask: they'd like to know how many Calories are being carried by the Elf carrying the most Calories. In the example above, this is 24000 (carried by the fourth Elf).\n",
        "\n",
        "Find the Elf carrying the most Calories. How many total Calories is that Elf carrying?"
      ],
      "metadata": {
        "id": "WPvIw_c-eJKl"
      }
    },
    {
      "cell_type": "code",
      "execution_count": 51,
      "metadata": {
        "id": "8UrHLIsjTPne"
      },
      "outputs": [],
      "source": [
        "def max_calories(inventory):\n",
        "  total_calories = 0 \n",
        "  list_calories = []\n",
        "\n",
        "  for food in inventory:\n",
        "    if food == '':\n",
        "      list_calories.append(total_calories)\n",
        "      total_calories = 0\n",
        "\n",
        "    else:\n",
        "      total_calories = int(food) + total_calories\n",
        "\n",
        "  max_calories = max(list_calories)\n",
        "\n",
        "  return max_calories"
      ]
    },
    {
      "cell_type": "code",
      "source": [
        "inventory_test = [1000,2000,3000,'',4000,'',5000,6000,'',7000,8000,9000,'',10000]\n",
        "\n",
        "max_calories(inventory_test)"
      ],
      "metadata": {
        "colab": {
          "base_uri": "https://localhost:8080/"
        },
        "id": "6L8rApReUkEF",
        "outputId": "00acb4e9-2f77-439e-da66-919f389c9f53"
      },
      "execution_count": 52,
      "outputs": [
        {
          "output_type": "execute_result",
          "data": {
            "text/plain": [
              "24000"
            ]
          },
          "metadata": {},
          "execution_count": 52
        }
      ]
    },
    {
      "cell_type": "code",
      "source": [
        "alist = [line.rstrip() for line in open('day1.txt')]\n",
        "max_calories(alist)"
      ],
      "metadata": {
        "colab": {
          "base_uri": "https://localhost:8080/"
        },
        "id": "uQ9JwqUIZjqR",
        "outputId": "028abc5f-7cd5-44dd-f334-c873b68b9edb"
      },
      "execution_count": 53,
      "outputs": [
        {
          "output_type": "execute_result",
          "data": {
            "text/plain": [
              "71471"
            ]
          },
          "metadata": {},
          "execution_count": 53
        }
      ]
    },
    {
      "cell_type": "code",
      "source": [
        "def max_calories_top3(inventory):\n",
        "  total_calories = 0 \n",
        "  list_calories = []\n",
        "\n",
        "  for food in inventory:\n",
        "    if food == '':\n",
        "      list_calories.append(total_calories)\n",
        "      total_calories = 0\n",
        "\n",
        "    else:\n",
        "      total_calories = int(food) + total_calories\n",
        "\n",
        "  list_calories.sort(reverse=True)\n",
        "  top3 = sum(list_calories[:3])\n",
        "\n",
        "  return top3"
      ],
      "metadata": {
        "id": "JgdoXJ_yZ0Tn"
      },
      "execution_count": 71,
      "outputs": []
    },
    {
      "cell_type": "code",
      "source": [
        "max_calories_top3(alist)"
      ],
      "metadata": {
        "colab": {
          "base_uri": "https://localhost:8080/"
        },
        "id": "M20-NZiebdz6",
        "outputId": "270ba5e9-7602-4b7a-bbef-3729085cb0b5"
      },
      "execution_count": 72,
      "outputs": [
        {
          "output_type": "execute_result",
          "data": {
            "text/plain": [
              "211189"
            ]
          },
          "metadata": {},
          "execution_count": 72
        }
      ]
    },
    {
      "cell_type": "markdown",
      "source": [
        "#Day 2: Rock Paper Scissors"
      ],
      "metadata": {
        "id": "EZbJpNxBeBBG"
      }
    },
    {
      "cell_type": "markdown",
      "source": [
        "Rock defeats Scissors, Scissors defeats Paper, and Paper defeats Rock. If both players choose the same shape, the round instead ends in a draw.\n",
        "\n",
        "\"The first column is what your opponent is going to play: A for Rock, B for Paper, and C for Scissors. The second column--\"\n",
        "\n",
        "The second column, you reason, must be what you should play in response: X for Rock, Y for Paper, and Z for Scissors. Winning every time would be suspicious, so the responses must have been carefully chosen.\n",
        "\n",
        "The winner of the whole tournament is the player with the highest score. Your total score is the sum of your scores for each round. The score for a single round is the score for the shape you selected (1 for Rock, 2 for Paper, and 3 for Scissors) plus the score for the outcome of the round (0 if you lost, 3 if the round was a draw, and 6 if you won).\n",
        "\n",
        "- A Y\n",
        "- B X\n",
        "- C Z\n",
        "\n",
        "- In the first round, your opponent will choose Rock (A), and you should choose Paper (Y). This ends in a win for you with a score of 8 (2 because you chose Paper + 6 because you won).\n",
        "- In the second round, your opponent will choose Paper (B), and you should choose Rock (X). This ends in a loss for you with a score of 1 (1 + 0).\n",
        "- The third round is a draw with both players choosing Scissors, giving you a score of 3 + 3 = 6.\n",
        "\n",
        "\n",
        "In this example, if you were to follow the strategy guide, you would get a total score of 15 (8 + 1 + 6)."
      ],
      "metadata": {
        "id": "MFQkOlgXeKyc"
      }
    },
    {
      "cell_type": "code",
      "source": [
        "test = [['A','Y'],\n",
        "['B', 'X'],\n",
        "['C' ,'Z']]"
      ],
      "metadata": {
        "id": "HGRiBBCfqMCu"
      },
      "execution_count": 130,
      "outputs": []
    },
    {
      "cell_type": "code",
      "source": [
        "day2 = [line.rstrip().split() for line in open('day2.txt')]"
      ],
      "metadata": {
        "id": "GO61CPWicEb-"
      },
      "execution_count": 77,
      "outputs": []
    },
    {
      "cell_type": "code",
      "source": [
        "def replace_all(text, dic):\n",
        "    for i, j in dic.items():\n",
        "        text = text.replace(i, j)\n",
        "    return text"
      ],
      "metadata": {
        "id": "3KuYtNKpnsy8"
      },
      "execution_count": 92,
      "outputs": []
    },
    {
      "cell_type": "code",
      "source": [
        "def rock_paper_scissors(rounds):\n",
        "  score = 0\n",
        "\n",
        "  for round in rounds:\n",
        "    score +=1 #considers rock\n",
        "    \n",
        "    #considers paper\n",
        "    if round[1] == 'Y':\n",
        "      score +=1 \n",
        "    #considers scissors \n",
        "    elif round[1]=='Z': \n",
        "      score +=2 \n",
        "\n",
        "    dic = { \"X\": \"A\", \"Y\": \"B\", \"Z\":\"C\"}\n",
        "\n",
        "    round = list(map(lambda x: replace_all(x, dic), round))\n",
        "    \n",
        "    if round[0] == round[1]: #ties\n",
        "      score += 3\n",
        "    \n",
        "    #wins\n",
        "    if (round[0] == 'A') & ( round[1] == 'B'):\n",
        "      score +=6\n",
        "    \n",
        "    if (round[0] == 'B') & ( round[1] == 'C'):\n",
        "      score +=6\n",
        "\n",
        "    if (round[0] == 'C') & ( round[1] == 'A'):\n",
        "      score +=6\n",
        "\n",
        "  return score\n",
        "rock_paper_scissors(day2), rock_paper_scissors(test)"
      ],
      "metadata": {
        "colab": {
          "base_uri": "https://localhost:8080/"
        },
        "id": "14ZubFdMhAS0",
        "outputId": "bc9f10cc-f80f-4c93-8476-54bc2b72c6f6"
      },
      "execution_count": 128,
      "outputs": [
        {
          "output_type": "execute_result",
          "data": {
            "text/plain": [
              "(11475, 15)"
            ]
          },
          "metadata": {},
          "execution_count": 128
        }
      ]
    },
    {
      "cell_type": "markdown",
      "source": [
        "The Elf finishes helping with the tent and sneaks back over to you. \"Anyway, the second column says how the round needs to end: X means you need to lose, Y means you need to end the round in a draw, and Z means you need to win. Good luck!\"\n",
        "\n",
        "- In the first round, your opponent will choose Rock (A), and you need the round to end in a draw (Y), so you also choose Rock. This gives you a score of 1 + 3 = 4.\n",
        "- In the second round, your opponent will choose Paper (B), and you choose Rock so you lose (X) with a score of 1 + 0 = 1.\n",
        "- In the third round, you will defeat your opponent's Scissors with Rock for a score of 1 + 6 = 7.\n",
        "\n",
        "Now that you're correctly decrypting the ultra top secret strategy guide, you would get a total score of 12."
      ],
      "metadata": {
        "id": "cuPD61XguYyl"
      }
    },
    {
      "cell_type": "code",
      "source": [
        "def rock_paper_scissors_part2(rounds):\n",
        "  score = 0\n",
        "\n",
        "  for round in rounds:\n",
        "    score +=1 #considers we choose rock \n",
        "  \n",
        "    if round[1] == 'Y': #ties\n",
        "      score += 3\n",
        "      if round[0] == 'B': #paper\n",
        "        score +=1 \n",
        "      if round[0] == 'C': #scissor\n",
        "        score +=2 \n",
        "    \n",
        "    if round[1] == 'X': #loss\n",
        "      if (round[0] == 'A'): #he puts rock we choose scissor\n",
        "        score +=2  \n",
        "      if (round[0] == 'C'): #he puts scissor we choose paper\n",
        "        score +=1 \n",
        "\n",
        "    if round[1] == 'Z': #win\n",
        "      score += 6\n",
        "      if (round[0] == 'A'): #he puts rock we choose paper\n",
        "        score +=1 \n",
        "      if (round[0] == 'B'): #he puts paper we choose scissor\n",
        "        score +=2\n",
        "\n",
        "  return score\n",
        "rock_paper_scissors_part2(day2), rock_paper_scissors_part2(test)"
      ],
      "metadata": {
        "colab": {
          "base_uri": "https://localhost:8080/"
        },
        "id": "gvBZhc_vuRVt",
        "outputId": "a670ea9b-d600-4f99-8965-b785f5edd9cc"
      },
      "execution_count": 143,
      "outputs": [
        {
          "output_type": "execute_result",
          "data": {
            "text/plain": [
              "(16862, 12)"
            ]
          },
          "metadata": {},
          "execution_count": 143
        }
      ]
    },
    {
      "cell_type": "markdown",
      "source": [
        "# Day 3: Rucksack Reorganization"
      ],
      "metadata": {
        "id": "hB5qY4HmzqIk"
      }
    },
    {
      "cell_type": "code",
      "source": [],
      "metadata": {
        "id": "Bm5WoPc7xvz1"
      },
      "execution_count": null,
      "outputs": []
    }
  ]
}