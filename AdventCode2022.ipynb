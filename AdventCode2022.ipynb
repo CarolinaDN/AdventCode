{
  "nbformat": 4,
  "nbformat_minor": 0,
  "metadata": {
    "colab": {
      "provenance": [],
      "authorship_tag": "ABX9TyN62fmZaTzpL8Ju643OjyxW",
      "include_colab_link": true
    },
    "kernelspec": {
      "name": "python3",
      "display_name": "Python 3"
    },
    "language_info": {
      "name": "python"
    }
  },
  "cells": [
    {
      "cell_type": "markdown",
      "metadata": {
        "id": "view-in-github",
        "colab_type": "text"
      },
      "source": [
        "<a href=\"https://colab.research.google.com/github/CarolinaDN/AdventCode2022/blob/main/AdventCode2022.ipynb\" target=\"_parent\"><img src=\"https://colab.research.google.com/assets/colab-badge.svg\" alt=\"Open In Colab\"/></a>"
      ]
    },
    {
      "cell_type": "markdown",
      "source": [
        "#Day 1: Calorie Counting\n"
      ],
      "metadata": {
        "id": "X15Z7vUvTSEU"
      }
    },
    {
      "cell_type": "code",
      "source": [
        "inventory_test = [1000,2000,3000,'',4000,'',5000,6000,'',7000,8000,9000,'',10000]\n",
        "alist = [line.rstrip() for line in open('day1.txt')]"
      ],
      "metadata": {
        "id": "VvsvXhtMjHLF"
      },
      "execution_count": 76,
      "outputs": []
    },
    {
      "cell_type": "code",
      "execution_count": 77,
      "metadata": {
        "colab": {
          "base_uri": "https://localhost:8080/"
        },
        "id": "8UrHLIsjTPne",
        "outputId": "0b9f909c-04a3-4bdf-9987-77dd15ea9f3c"
      },
      "outputs": [
        {
          "output_type": "execute_result",
          "data": {
            "text/plain": [
              "(24000, 71471)"
            ]
          },
          "metadata": {},
          "execution_count": 77
        }
      ],
      "source": [
        "def max_calories(inventory):\n",
        "  total_calories = 0 \n",
        "  list_calories = []\n",
        "\n",
        "  for food in inventory:\n",
        "    if food == '':\n",
        "      list_calories.append(total_calories)\n",
        "      total_calories = 0\n",
        "\n",
        "    else:\n",
        "      total_calories = int(food) + total_calories\n",
        "\n",
        "  max_calories = max(list_calories)\n",
        "\n",
        "  return max_calories\n",
        "\n",
        "\n",
        "max_calories(inventory_test), max_calories(alist)"
      ]
    },
    {
      "cell_type": "code",
      "source": [
        "def max_calories_top3(inventory):\n",
        "  total_calories = 0 \n",
        "  list_calories = []\n",
        "\n",
        "  for food in inventory:\n",
        "    if food == '':\n",
        "      list_calories.append(total_calories)\n",
        "      total_calories = 0\n",
        "\n",
        "    else:\n",
        "      total_calories = int(food) + total_calories\n",
        "\n",
        "  list_calories.sort(reverse=True)\n",
        "  top3 = sum(list_calories[:3])\n",
        "\n",
        "  return top3\n",
        "\n",
        "max_calories_top3(alist)"
      ],
      "metadata": {
        "colab": {
          "base_uri": "https://localhost:8080/"
        },
        "id": "JgdoXJ_yZ0Tn",
        "outputId": "17fd51c3-4b05-4ad9-e511-e68f91845cef"
      },
      "execution_count": 79,
      "outputs": [
        {
          "output_type": "execute_result",
          "data": {
            "text/plain": [
              "211189"
            ]
          },
          "metadata": {},
          "execution_count": 79
        }
      ]
    },
    {
      "cell_type": "markdown",
      "source": [
        "#Day 2: Rock Paper Scissors"
      ],
      "metadata": {
        "id": "EZbJpNxBeBBG"
      }
    },
    {
      "cell_type": "code",
      "source": [
        "test = [['A','Y'],\n",
        "['B', 'X'],\n",
        "['C' ,'Z']]\n",
        "\n",
        "day2 = [line.rstrip().split() for line in open('day2.txt')]"
      ],
      "metadata": {
        "id": "HGRiBBCfqMCu"
      },
      "execution_count": 80,
      "outputs": []
    },
    {
      "cell_type": "code",
      "source": [
        "def replace_all(text, dic):\n",
        "    for i, j in dic.items():\n",
        "        text = text.replace(i, j)\n",
        "    return text"
      ],
      "metadata": {
        "id": "3KuYtNKpnsy8"
      },
      "execution_count": 81,
      "outputs": []
    },
    {
      "cell_type": "code",
      "source": [
        "def rock_paper_scissors(rounds):\n",
        "  score = 0\n",
        "\n",
        "  for round in rounds:\n",
        "    score +=1 #considers rock\n",
        "    \n",
        "    #considers paper\n",
        "    if round[1] == 'Y':\n",
        "      score +=1 \n",
        "    #considers scissors \n",
        "    elif round[1]=='Z': \n",
        "      score +=2 \n",
        "\n",
        "    dic = { \"X\": \"A\", \"Y\": \"B\", \"Z\":\"C\"}\n",
        "\n",
        "    round = list(map(lambda x: replace_all(x, dic), round))\n",
        "    \n",
        "    if round[0] == round[1]: #ties\n",
        "      score += 3\n",
        "    \n",
        "    #wins\n",
        "    if (round[0] == 'A') & ( round[1] == 'B'):\n",
        "      score +=6\n",
        "    \n",
        "    if (round[0] == 'B') & ( round[1] == 'C'):\n",
        "      score +=6\n",
        "\n",
        "    if (round[0] == 'C') & ( round[1] == 'A'):\n",
        "      score +=6\n",
        "\n",
        "  return score\n",
        "rock_paper_scissors(test), rock_paper_scissors(day2)"
      ],
      "metadata": {
        "colab": {
          "base_uri": "https://localhost:8080/"
        },
        "id": "14ZubFdMhAS0",
        "outputId": "0ecd2093-029f-4d2f-ddbc-b83baf718386"
      },
      "execution_count": 82,
      "outputs": [
        {
          "output_type": "execute_result",
          "data": {
            "text/plain": [
              "(15, 11475)"
            ]
          },
          "metadata": {},
          "execution_count": 82
        }
      ]
    },
    {
      "cell_type": "code",
      "source": [
        "def rock_paper_scissors_part2(rounds):\n",
        "  score = 0\n",
        "\n",
        "  for round in rounds:\n",
        "    score +=1 #considers we choose rock \n",
        "  \n",
        "    if round[1] == 'Y': #ties\n",
        "      score += 3\n",
        "      if round[0] == 'B': #paper\n",
        "        score +=1 \n",
        "      if round[0] == 'C': #scissor\n",
        "        score +=2 \n",
        "    \n",
        "    if round[1] == 'X': #loss\n",
        "      if (round[0] == 'A'): #he puts rock we choose scissor\n",
        "        score +=2  \n",
        "      if (round[0] == 'C'): #he puts scissor we choose paper\n",
        "        score +=1 \n",
        "\n",
        "    if round[1] == 'Z': #win\n",
        "      score += 6\n",
        "      if (round[0] == 'A'): #he puts rock we choose paper\n",
        "        score +=1 \n",
        "      if (round[0] == 'B'): #he puts paper we choose scissor\n",
        "        score +=2\n",
        "\n",
        "  return score\n",
        "rock_paper_scissors_part2(test), rock_paper_scissors_part2(day2)"
      ],
      "metadata": {
        "colab": {
          "base_uri": "https://localhost:8080/"
        },
        "id": "gvBZhc_vuRVt",
        "outputId": "287cb30e-72ce-4a5e-aec1-ff5f3461f78c"
      },
      "execution_count": 83,
      "outputs": [
        {
          "output_type": "execute_result",
          "data": {
            "text/plain": [
              "(12, 16862)"
            ]
          },
          "metadata": {},
          "execution_count": 83
        }
      ]
    },
    {
      "cell_type": "markdown",
      "source": [
        "# Day 3: Rucksack Reorganization"
      ],
      "metadata": {
        "id": "hB5qY4HmzqIk"
      }
    },
    {
      "cell_type": "code",
      "source": [
        "test = ['vJrwpWtwJgWrhcsFMMfFFhFp',\n",
        "'jqHRNqRjqzjGDLGLrsFMfFZSrLrFZsSL',\n",
        "'PmmdzqPrVvPwwTWBwg',\n",
        "'wMqvLMZHhHMvwLHjbvcjnnSBnvTQFn',\n",
        "'ttgJtRGJQctTZtZT',\n",
        "'CrZsJsPPZsGzwwsLwLmpwMDw']\n",
        "\n",
        "day3 = [line.rstrip() for line in open('day3.txt')]"
      ],
      "metadata": {
        "id": "Bm5WoPc7xvz1"
      },
      "execution_count": 84,
      "outputs": []
    },
    {
      "cell_type": "code",
      "source": [
        "import string\n",
        "import numpy as np \n",
        "alphabet = list(string.ascii_letters)\n",
        "priorities = {alphabet[i]: np.arange(1,53)[i] for i in range(len(alphabet))}"
      ],
      "metadata": {
        "id": "S9e3Leg-PVOO"
      },
      "execution_count": 85,
      "outputs": []
    },
    {
      "cell_type": "code",
      "source": [
        "def rucksack_priorities(rucksacks):\n",
        "  priority_values = []\n",
        "\n",
        "  for items in rucksacks:\n",
        "    len_compartment = int(len(items)/2)\n",
        "    compartment1, compartment2 =  set(items[:len_compartment]), set(items[len_compartment:])\n",
        "    common_item =  [common for common in compartment1 if common in compartment2] \n",
        "    priority_values.append(priorities.get(common_item[0]))\n",
        "  \n",
        "  return sum(priority_values)\n",
        "\n",
        "rucksack_priorities(test), rucksack_priorities(day3)"
      ],
      "metadata": {
        "colab": {
          "base_uri": "https://localhost:8080/"
        },
        "id": "-LVylrD1TBeD",
        "outputId": "e908da63-72da-488d-8600-9dce992a6dc9"
      },
      "execution_count": 86,
      "outputs": [
        {
          "output_type": "execute_result",
          "data": {
            "text/plain": [
              "(157, 7848)"
            ]
          },
          "metadata": {},
          "execution_count": 86
        }
      ]
    },
    {
      "cell_type": "code",
      "source": [
        "def rucksack_priorities_badge(rucksacks):\n",
        "  priority_values = []\n",
        "\n",
        "  for items in range(0, len(rucksacks), 3):\n",
        "    group = rucksacks[items:items+3]\n",
        "\n",
        "    rucksack1, rucksack2, rucksack3 = set(group[0]), set(group[1]), set(group[2])\n",
        "    common_item =  [common for common in rucksack1 if (common in rucksack2) & (common in rucksack3)]\n",
        "\n",
        "    priority_values.append(priorities.get(common_item[0]))\n",
        "\n",
        "  return sum(priority_values)\n",
        "\n",
        "rucksack_priorities_badge(test), rucksack_priorities_badge(day3)"
      ],
      "metadata": {
        "colab": {
          "base_uri": "https://localhost:8080/"
        },
        "id": "UwdwOdSaZPRA",
        "outputId": "861a42db-7cb5-44fc-e0dc-de9555d7504b"
      },
      "execution_count": 87,
      "outputs": [
        {
          "output_type": "execute_result",
          "data": {
            "text/plain": [
              "(70, 2616)"
            ]
          },
          "metadata": {},
          "execution_count": 87
        }
      ]
    },
    {
      "cell_type": "markdown",
      "source": [
        "# Day 4: Camp Cleanup"
      ],
      "metadata": {
        "id": "8Hr34EqJkVxJ"
      }
    },
    {
      "cell_type": "code",
      "source": [
        "test = ['2-4,6-8',\n",
        "'2-3,4-5',\n",
        "'5-7,7-9',\n",
        "'2-8,3-7',\n",
        "'6-6,4-6',\n",
        "'2-6,4-8']\n",
        "\n",
        "day4 = [line.rstrip() for line in open('day4.txt')]"
      ],
      "metadata": {
        "id": "AtURTYRwYwz9"
      },
      "execution_count": 1,
      "outputs": []
    },
    {
      "cell_type": "code",
      "source": [
        "def cleanup(distribution):\n",
        "  contain_other = 0\n",
        "  overlapp = 0\n",
        "  for pair in distribution:\n",
        "    pair = pair.split('-')\n",
        "    first_elf = [i for i in range(int(pair[0]), int(pair[1].split(',')[0])+1)]\n",
        "    second_elf = [i for i in range(int(pair[1].split(',')[1]), int(pair[2])+1)]\n",
        "\n",
        "    #part 1\n",
        "    if set(first_elf).issubset(set(second_elf)) or set(second_elf).issubset(set(first_elf)):\n",
        "      contain_other += 1\n",
        "\n",
        "    #part 2\n",
        "    if list(set(first_elf) & set(second_elf)) != []:\n",
        "      overlapp += 1\n",
        "\n",
        "  return contain_other, overlapp\n",
        "\n",
        "cleanup(test), cleanup(day4)"
      ],
      "metadata": {
        "colab": {
          "base_uri": "https://localhost:8080/"
        },
        "id": "tZc3cmBiq1dO",
        "outputId": "38e1cddb-fb15-4bc6-b1fd-0dd6c300df7b"
      },
      "execution_count": 22,
      "outputs": [
        {
          "output_type": "execute_result",
          "data": {
            "text/plain": [
              "((2, 4), (448, 794))"
            ]
          },
          "metadata": {},
          "execution_count": 22
        }
      ]
    },
    {
      "cell_type": "markdown",
      "source": [
        "# Day 5: Supply Stacks"
      ],
      "metadata": {
        "id": "QcFs_wVJkAhW"
      }
    },
    {
      "cell_type": "code",
      "source": [],
      "metadata": {
        "id": "BUv83hOHkF9c"
      },
      "execution_count": null,
      "outputs": []
    }
  ]
}