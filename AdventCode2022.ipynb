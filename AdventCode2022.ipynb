{
  "nbformat": 4,
  "nbformat_minor": 0,
  "metadata": {
    "colab": {
      "provenance": [],
      "authorship_tag": "ABX9TyN4m3aGGHUxj5avAA9tSnhT",
      "include_colab_link": true
    },
    "kernelspec": {
      "name": "python3",
      "display_name": "Python 3"
    },
    "language_info": {
      "name": "python"
    }
  },
  "cells": [
    {
      "cell_type": "markdown",
      "metadata": {
        "id": "view-in-github",
        "colab_type": "text"
      },
      "source": [
        "<a href=\"https://colab.research.google.com/github/CarolinaDN/AdventCode2022/blob/main/AdventCode2022.ipynb\" target=\"_parent\"><img src=\"https://colab.research.google.com/assets/colab-badge.svg\" alt=\"Open In Colab\"/></a>"
      ]
    },
    {
      "cell_type": "code",
      "source": [
        "import pandas as pd\n",
        "import numpy as np\n",
        "import re"
      ],
      "metadata": {
        "id": "gafwzXIHalvw"
      },
      "execution_count": 1,
      "outputs": []
    },
    {
      "cell_type": "markdown",
      "source": [
        "#Day 1: Calorie Counting\n"
      ],
      "metadata": {
        "id": "X15Z7vUvTSEU"
      }
    },
    {
      "cell_type": "code",
      "source": [
        "inventory_test = [1000,2000,3000,'',4000,'',5000,6000,'',7000,8000,9000,'',10000]\n",
        "alist = [line.rstrip() for line in open('day1.txt')]"
      ],
      "metadata": {
        "id": "VvsvXhtMjHLF"
      },
      "execution_count": null,
      "outputs": []
    },
    {
      "cell_type": "code",
      "execution_count": null,
      "metadata": {
        "colab": {
          "base_uri": "https://localhost:8080/"
        },
        "id": "8UrHLIsjTPne",
        "outputId": "0b9f909c-04a3-4bdf-9987-77dd15ea9f3c"
      },
      "outputs": [
        {
          "output_type": "execute_result",
          "data": {
            "text/plain": [
              "(24000, 71471)"
            ]
          },
          "metadata": {},
          "execution_count": 77
        }
      ],
      "source": [
        "def max_calories(inventory):\n",
        "  total_calories = 0 \n",
        "  list_calories = []\n",
        "\n",
        "  for food in inventory:\n",
        "    if food == '':\n",
        "      list_calories.append(total_calories)\n",
        "      total_calories = 0\n",
        "\n",
        "    else:\n",
        "      total_calories = int(food) + total_calories\n",
        "\n",
        "  max_calories = max(list_calories)\n",
        "\n",
        "  return max_calories\n",
        "\n",
        "\n",
        "max_calories(inventory_test), max_calories(alist)"
      ]
    },
    {
      "cell_type": "code",
      "source": [
        "def max_calories_top3(inventory):\n",
        "  total_calories = 0 \n",
        "  list_calories = []\n",
        "\n",
        "  for food in inventory:\n",
        "    if food == '':\n",
        "      list_calories.append(total_calories)\n",
        "      total_calories = 0\n",
        "\n",
        "    else:\n",
        "      total_calories = int(food) + total_calories\n",
        "\n",
        "  list_calories.sort(reverse=True)\n",
        "  top3 = sum(list_calories[:3])\n",
        "\n",
        "  return top3\n",
        "\n",
        "max_calories_top3(alist)"
      ],
      "metadata": {
        "colab": {
          "base_uri": "https://localhost:8080/"
        },
        "id": "JgdoXJ_yZ0Tn",
        "outputId": "17fd51c3-4b05-4ad9-e511-e68f91845cef"
      },
      "execution_count": null,
      "outputs": [
        {
          "output_type": "execute_result",
          "data": {
            "text/plain": [
              "211189"
            ]
          },
          "metadata": {},
          "execution_count": 79
        }
      ]
    },
    {
      "cell_type": "markdown",
      "source": [
        "#Day 2: Rock Paper Scissors"
      ],
      "metadata": {
        "id": "EZbJpNxBeBBG"
      }
    },
    {
      "cell_type": "code",
      "source": [
        "test = [['A','Y'],\n",
        "['B', 'X'],\n",
        "['C' ,'Z']]\n",
        "\n",
        "day2 = [line.rstrip().split() for line in open('day2.txt')]"
      ],
      "metadata": {
        "id": "HGRiBBCfqMCu"
      },
      "execution_count": null,
      "outputs": []
    },
    {
      "cell_type": "code",
      "source": [
        "def replace_all(text, dic):\n",
        "    for i, j in dic.items():\n",
        "        text = text.replace(i, j)\n",
        "    return text"
      ],
      "metadata": {
        "id": "3KuYtNKpnsy8"
      },
      "execution_count": null,
      "outputs": []
    },
    {
      "cell_type": "code",
      "source": [
        "def rock_paper_scissors(rounds):\n",
        "  score = 0\n",
        "\n",
        "  for round in rounds:\n",
        "    score +=1 #considers rock\n",
        "    \n",
        "    #considers paper\n",
        "    if round[1] == 'Y':\n",
        "      score +=1 \n",
        "    #considers scissors \n",
        "    elif round[1]=='Z': \n",
        "      score +=2 \n",
        "\n",
        "    dic = { \"X\": \"A\", \"Y\": \"B\", \"Z\":\"C\"}\n",
        "\n",
        "    round = list(map(lambda x: replace_all(x, dic), round))\n",
        "    \n",
        "    if round[0] == round[1]: #ties\n",
        "      score += 3\n",
        "    \n",
        "    #wins\n",
        "    if (round[0] == 'A') & ( round[1] == 'B'):\n",
        "      score +=6\n",
        "    \n",
        "    if (round[0] == 'B') & ( round[1] == 'C'):\n",
        "      score +=6\n",
        "\n",
        "    if (round[0] == 'C') & ( round[1] == 'A'):\n",
        "      score +=6\n",
        "\n",
        "  return score\n",
        "rock_paper_scissors(test), rock_paper_scissors(day2)"
      ],
      "metadata": {
        "colab": {
          "base_uri": "https://localhost:8080/"
        },
        "id": "14ZubFdMhAS0",
        "outputId": "0ecd2093-029f-4d2f-ddbc-b83baf718386"
      },
      "execution_count": null,
      "outputs": [
        {
          "output_type": "execute_result",
          "data": {
            "text/plain": [
              "(15, 11475)"
            ]
          },
          "metadata": {},
          "execution_count": 82
        }
      ]
    },
    {
      "cell_type": "code",
      "source": [
        "def rock_paper_scissors_part2(rounds):\n",
        "  score = 0\n",
        "\n",
        "  for round in rounds:\n",
        "    score +=1 #considers we choose rock \n",
        "  \n",
        "    if round[1] == 'Y': #ties\n",
        "      score += 3\n",
        "      if round[0] == 'B': #paper\n",
        "        score +=1 \n",
        "      if round[0] == 'C': #scissor\n",
        "        score +=2 \n",
        "    \n",
        "    if round[1] == 'X': #loss\n",
        "      if (round[0] == 'A'): #he puts rock we choose scissor\n",
        "        score +=2  \n",
        "      if (round[0] == 'C'): #he puts scissor we choose paper\n",
        "        score +=1 \n",
        "\n",
        "    if round[1] == 'Z': #win\n",
        "      score += 6\n",
        "      if (round[0] == 'A'): #he puts rock we choose paper\n",
        "        score +=1 \n",
        "      if (round[0] == 'B'): #he puts paper we choose scissor\n",
        "        score +=2\n",
        "\n",
        "  return score\n",
        "rock_paper_scissors_part2(test), rock_paper_scissors_part2(day2)"
      ],
      "metadata": {
        "colab": {
          "base_uri": "https://localhost:8080/"
        },
        "id": "gvBZhc_vuRVt",
        "outputId": "287cb30e-72ce-4a5e-aec1-ff5f3461f78c"
      },
      "execution_count": null,
      "outputs": [
        {
          "output_type": "execute_result",
          "data": {
            "text/plain": [
              "(12, 16862)"
            ]
          },
          "metadata": {},
          "execution_count": 83
        }
      ]
    },
    {
      "cell_type": "markdown",
      "source": [
        "# Day 3: Rucksack Reorganization"
      ],
      "metadata": {
        "id": "hB5qY4HmzqIk"
      }
    },
    {
      "cell_type": "code",
      "source": [
        "test = ['vJrwpWtwJgWrhcsFMMfFFhFp',\n",
        "'jqHRNqRjqzjGDLGLrsFMfFZSrLrFZsSL',\n",
        "'PmmdzqPrVvPwwTWBwg',\n",
        "'wMqvLMZHhHMvwLHjbvcjnnSBnvTQFn',\n",
        "'ttgJtRGJQctTZtZT',\n",
        "'CrZsJsPPZsGzwwsLwLmpwMDw']\n",
        "\n",
        "day3 = [line.rstrip() for line in open('day3.txt')]"
      ],
      "metadata": {
        "id": "Bm5WoPc7xvz1"
      },
      "execution_count": null,
      "outputs": []
    },
    {
      "cell_type": "code",
      "source": [
        "import string\n",
        "import numpy as np \n",
        "alphabet = list(string.ascii_letters)\n",
        "priorities = {alphabet[i]: np.arange(1,53)[i] for i in range(len(alphabet))}"
      ],
      "metadata": {
        "id": "S9e3Leg-PVOO"
      },
      "execution_count": null,
      "outputs": []
    },
    {
      "cell_type": "code",
      "source": [
        "def rucksack_priorities(rucksacks):\n",
        "  priority_values = []\n",
        "\n",
        "  for items in rucksacks:\n",
        "    len_compartment = int(len(items)/2)\n",
        "    compartment1, compartment2 =  set(items[:len_compartment]), set(items[len_compartment:])\n",
        "    common_item =  [common for common in compartment1 if common in compartment2] \n",
        "    priority_values.append(priorities.get(common_item[0]))\n",
        "  \n",
        "  return sum(priority_values)\n",
        "\n",
        "rucksack_priorities(test), rucksack_priorities(day3)"
      ],
      "metadata": {
        "colab": {
          "base_uri": "https://localhost:8080/"
        },
        "id": "-LVylrD1TBeD",
        "outputId": "e908da63-72da-488d-8600-9dce992a6dc9"
      },
      "execution_count": null,
      "outputs": [
        {
          "output_type": "execute_result",
          "data": {
            "text/plain": [
              "(157, 7848)"
            ]
          },
          "metadata": {},
          "execution_count": 86
        }
      ]
    },
    {
      "cell_type": "code",
      "source": [
        "def rucksack_priorities_badge(rucksacks):\n",
        "  priority_values = []\n",
        "\n",
        "  for items in range(0, len(rucksacks), 3):\n",
        "    group = rucksacks[items:items+3]\n",
        "\n",
        "    rucksack1, rucksack2, rucksack3 = set(group[0]), set(group[1]), set(group[2])\n",
        "    common_item =  [common for common in rucksack1 if (common in rucksack2) & (common in rucksack3)]\n",
        "\n",
        "    priority_values.append(priorities.get(common_item[0]))\n",
        "\n",
        "  return sum(priority_values)\n",
        "\n",
        "rucksack_priorities_badge(test), rucksack_priorities_badge(day3)"
      ],
      "metadata": {
        "colab": {
          "base_uri": "https://localhost:8080/"
        },
        "id": "UwdwOdSaZPRA",
        "outputId": "861a42db-7cb5-44fc-e0dc-de9555d7504b"
      },
      "execution_count": null,
      "outputs": [
        {
          "output_type": "execute_result",
          "data": {
            "text/plain": [
              "(70, 2616)"
            ]
          },
          "metadata": {},
          "execution_count": 87
        }
      ]
    },
    {
      "cell_type": "markdown",
      "source": [
        "# Day 4: Camp Cleanup"
      ],
      "metadata": {
        "id": "8Hr34EqJkVxJ"
      }
    },
    {
      "cell_type": "code",
      "source": [
        "test = ['2-4,6-8',\n",
        "'2-3,4-5',\n",
        "'5-7,7-9',\n",
        "'2-8,3-7',\n",
        "'6-6,4-6',\n",
        "'2-6,4-8']\n",
        "\n",
        "day4 = [line.rstrip() for line in open('day4.txt')]"
      ],
      "metadata": {
        "id": "AtURTYRwYwz9"
      },
      "execution_count": null,
      "outputs": []
    },
    {
      "cell_type": "code",
      "source": [
        "def cleanup(distribution):\n",
        "  contain_other = 0\n",
        "  overlapp = 0\n",
        "  for pair in distribution:\n",
        "    pair = pair.split('-')\n",
        "    first_elf = [i for i in range(int(pair[0]), int(pair[1].split(',')[0])+1)]\n",
        "    second_elf = [i for i in range(int(pair[1].split(',')[1]), int(pair[2])+1)]\n",
        "\n",
        "    #part 1\n",
        "    if set(first_elf).issubset(set(second_elf)) or set(second_elf).issubset(set(first_elf)):\n",
        "      contain_other += 1\n",
        "\n",
        "    #part 2\n",
        "    if list(set(first_elf) & set(second_elf)) != []:\n",
        "      overlapp += 1\n",
        "\n",
        "  return contain_other, overlapp\n",
        "\n",
        "cleanup(test), cleanup(day4)"
      ],
      "metadata": {
        "colab": {
          "base_uri": "https://localhost:8080/"
        },
        "id": "tZc3cmBiq1dO",
        "outputId": "38e1cddb-fb15-4bc6-b1fd-0dd6c300df7b"
      },
      "execution_count": null,
      "outputs": [
        {
          "output_type": "execute_result",
          "data": {
            "text/plain": [
              "((2, 4), (448, 794))"
            ]
          },
          "metadata": {},
          "execution_count": 22
        }
      ]
    },
    {
      "cell_type": "markdown",
      "source": [
        "# Day 5: Supply Stacks"
      ],
      "metadata": {
        "id": "QcFs_wVJkAhW"
      }
    },
    {
      "cell_type": "markdown",
      "source": [
        "I'm complicating, simplify, think about dictionaries"
      ],
      "metadata": {
        "id": "9YWhHdxfr3-2"
      }
    },
    {
      "cell_type": "code",
      "source": [
        "test = ['    [D]    ',\n",
        "'[N] [C]    ',\n",
        "'[Z] [M] [P]',\n",
        "' 1   2   3 ',\n",
        "'',\n",
        "'move 1 from 2 to 1',\n",
        "'move 3 from 1 to 3',\n",
        "'move 2 from 2 to 1',\n",
        "'move 1 from 1 to 2']\n",
        "test"
      ],
      "metadata": {
        "colab": {
          "base_uri": "https://localhost:8080/"
        },
        "id": "BUv83hOHkF9c",
        "outputId": "6e33896f-9ba2-483f-b3e0-8c2e6a510401"
      },
      "execution_count": null,
      "outputs": [
        {
          "output_type": "execute_result",
          "data": {
            "text/plain": [
              "['    [D]    ',\n",
              " '[N] [C]    ',\n",
              " '[Z] [M] [P]',\n",
              " ' 1   2   3 ',\n",
              " '',\n",
              " 'move 1 from 2 to 1',\n",
              " 'move 3 from 1 to 3',\n",
              " 'move 2 from 2 to 1',\n",
              " 'move 1 from 1 to 2']"
            ]
          },
          "metadata": {},
          "execution_count": 1
        }
      ]
    },
    {
      "cell_type": "code",
      "source": [
        "def create_stack_moves(input):\n",
        "  stack=[]\n",
        "  for i in input:\n",
        "    if i != '':\n",
        "      stack.append(i)\n",
        "    else:\n",
        "      break\n",
        "\n",
        "  all_moves = []\n",
        "  list_each_item = []\n",
        "\n",
        "  #start after stack until the end of all items in input\n",
        "  for i in range(len(stack)+1, len(input)):\n",
        "    for j in range(1, len(input[i].split(' ')), 2):\n",
        "      list_each_item.append(int(input[i].split(' ')[j]))   \n",
        "    all_moves.append(list_each_item)\n",
        "    list_each_item=[]\n",
        "\n",
        "  return stack, all_moves"
      ],
      "metadata": {
        "id": "hzsi4arvnzzE"
      },
      "execution_count": null,
      "outputs": []
    },
    {
      "cell_type": "code",
      "source": [
        "def make_dict_stack(stack):\n",
        "\n",
        "  total_columns = 1\n",
        "  for j in range(1, len(stack[0])-1, 4):\n",
        "    total_columns +=1\n",
        "\n",
        "  dict_stack = {}\n",
        "  for line in range(1, total_columns + 1):\n",
        "      dict_stack[line] = []\n",
        "  \n",
        "  column_list = []\n",
        "  for i in np.arange(len(stack)-1):\n",
        "    length_stack = len(stack[i])\n",
        "    for j in range(1, length_stack, 4):\n",
        "      column_list.append(stack[i][j])\n",
        "\n",
        "    for indx in range(1, len(column_list) + 1 ):\n",
        "      if column_list[indx - 1] != ' ':\n",
        "        dict_stack[indx].append(column_list[indx - 1])\n",
        "\n",
        "    column_list = []\n",
        "    \n",
        "  return dict_stack"
      ],
      "metadata": {
        "id": "I5c-gKZKlxIc"
      },
      "execution_count": null,
      "outputs": []
    },
    {
      "cell_type": "code",
      "source": [
        "day5 = [line.rstrip() for line in open('day5.txt')]"
      ],
      "metadata": {
        "id": "r6sHoEdFSS0l"
      },
      "execution_count": null,
      "outputs": []
    },
    {
      "cell_type": "code",
      "source": [
        "stack, all_moves =  create_stack_moves(day5) \n",
        "dict_stack = make_dict_stack(stack)\n",
        "\n",
        "for move in all_moves:\n",
        "  while move[0] > 0:\n",
        "    #temp variable to keep items from key in dict_stack\n",
        "    to_add = dict_stack[move[2]]\n",
        "\n",
        "    #add dict_stack[move[1]][0] to first position \n",
        "    dict_stack[move[2]] = [dict_stack[move[1]][0]] \n",
        "    dict_stack[move[2]].extend(to_add) \n",
        "\n",
        "    #remove item that was moved\n",
        "    dict_stack[move[1]].pop(0)\n",
        "\n",
        "    move[0] = move[0] - 1\n",
        "\n",
        "for key in dict_stack:\n",
        "  print(dict_stack[key][0])"
      ],
      "metadata": {
        "colab": {
          "base_uri": "https://localhost:8080/"
        },
        "id": "QK6PgjppbMh4",
        "outputId": "4165f843-e4d2-468e-8a56-10b319d73fd3"
      },
      "execution_count": null,
      "outputs": [
        {
          "output_type": "stream",
          "name": "stdout",
          "text": [
            "V\n",
            "C\n",
            "T\n",
            "F\n",
            "T\n",
            "J\n",
            "Q\n",
            "C\n",
            "G\n"
          ]
        }
      ]
    },
    {
      "cell_type": "markdown",
      "source": [
        "SECOND Part"
      ],
      "metadata": {
        "id": "rBCK6QCqzA7r"
      }
    },
    {
      "cell_type": "code",
      "source": [
        "stack, all_moves =  create_stack_moves(day5)\n",
        "dict_stack = make_dict_stack(stack)\n",
        "\n",
        "for move in all_moves:\n",
        "\n",
        "  #temp variable to keep items from key in dict_stack\n",
        "  to_add = dict_stack[move[2]]\n",
        "\n",
        "  #add dict_stack[move[1]][0] to first position \n",
        "  dict_stack[move[2]] = dict_stack[move[1]][:move[0]]\n",
        "  dict_stack[move[2]].extend(to_add) \n",
        "\n",
        "  #remove item that was moved\n",
        "  for rem in range(move[0]):\n",
        "    dict_stack[move[1]].pop(0)\n",
        "\n",
        "for key in dict_stack:\n",
        "  print(dict_stack[key][0])"
      ],
      "metadata": {
        "colab": {
          "base_uri": "https://localhost:8080/"
        },
        "id": "B9X5uByUr0PA",
        "outputId": "7b35feec-fe56-4a1f-9b3e-f61d05180b17"
      },
      "execution_count": null,
      "outputs": [
        {
          "output_type": "stream",
          "name": "stdout",
          "text": [
            "G\n",
            "C\n",
            "F\n",
            "G\n",
            "L\n",
            "D\n",
            "N\n",
            "J\n",
            "Z\n"
          ]
        }
      ]
    },
    {
      "cell_type": "markdown",
      "source": [
        "# Day 6: Tuning Trouble "
      ],
      "metadata": {
        "id": "_Ut_VXNZ_AHB"
      }
    },
    {
      "cell_type": "code",
      "source": [
        "day6 = [line.rstrip() for line in open('day6.txt')]"
      ],
      "metadata": {
        "id": "Ol3eWh9QyrPv"
      },
      "execution_count": null,
      "outputs": []
    },
    {
      "cell_type": "code",
      "source": [
        "# test = ['mjqjpqmgbljsphdztnvjfqwrcgsmlb']\n",
        "# test = ['bvwbjplbgvbhsrlpgdmjqwftvncz']\n",
        "test = day6"
      ],
      "metadata": {
        "id": "pspI_DozoDK9"
      },
      "execution_count": null,
      "outputs": []
    },
    {
      "cell_type": "code",
      "source": [
        "part_1 = 4\n",
        "part_2 = 14"
      ],
      "metadata": {
        "id": "0jdYtsVt3y8Y"
      },
      "execution_count": null,
      "outputs": []
    },
    {
      "cell_type": "code",
      "source": [
        "start = 0\n",
        "next = part_2 \n",
        "chars_4_list = []\n",
        "\n",
        "\n",
        "while next < len(test[0]):\n",
        "  for char in test[0][start:next]:\n",
        "    \n",
        "    if char not in chars_4_list:\n",
        "      chars_4_list.append(char)\n",
        "      if len(chars_4_list) == part_2:\n",
        "        next = len(test[0])\n",
        "        final_list = chars_4_list\n",
        "\n",
        "  start += 1\n",
        "  next += 1\n",
        "  chars_4_list = []\n",
        "  \n",
        "print(start + part_2 -1 )"
      ],
      "metadata": {
        "colab": {
          "base_uri": "https://localhost:8080/"
        },
        "id": "YDNM_Z88oYWi",
        "outputId": "33acfa19-159c-4121-c1bf-1f72770ed2de"
      },
      "execution_count": null,
      "outputs": [
        {
          "output_type": "stream",
          "name": "stdout",
          "text": [
            "2202\n"
          ]
        }
      ]
    },
    {
      "cell_type": "markdown",
      "source": [
        "# Day 7: No Space Left On Device "
      ],
      "metadata": {
        "id": "jW1v-c7E4JOz"
      }
    },
    {
      "cell_type": "code",
      "source": [
        "test =['$ cd /',\n",
        "'$ ls',\n",
        "'dir a',\n",
        "'14848514 b.txt',\n",
        "'8504156 c.dat',\n",
        "'dir d',\n",
        "'$ cd a',\n",
        "'$ ls',\n",
        "'dir e',\n",
        "'29116 f',\n",
        "'2557 g',\n",
        "'62596 h.lst',\n",
        "'$ cd e',\n",
        "'$ ls',\n",
        "'584 i',\n",
        "'$ cd ..',\n",
        "'$ cd ..',\n",
        "'$ cd d',\n",
        "'$ ls',\n",
        "'4060174 j',\n",
        "'8033020 d.log',\n",
        "'5626152 d.ext',\n",
        "'7214296 k',    \n",
        "]"
      ],
      "metadata": {
        "id": "xxtkSJp-5_Ke"
      },
      "execution_count": 2,
      "outputs": []
    },
    {
      "cell_type": "code",
      "source": [
        "def dir(input):\n",
        "  size_dir = {}\n",
        "  contained_dir = {}\n",
        "  dirs = []\n",
        "\n",
        "  numbers = re.compile('\\d*')\n",
        "\n",
        "  for value in input:\n",
        "    if '$ cd' in value:\n",
        "      dir = value[5:]\n",
        "      dirs.append(dir)\n",
        "      if dir == '..':\n",
        "        dirs = dirs[:-2]\n",
        "      dir = '/'.join(str(e) for e in dirs) #path of the directory\n",
        "      if dir not in size_dir.keys():\n",
        "        size_dir[dir] = []\n",
        "        contained_dir[dir] = []\n",
        "      continue\n",
        "    if '$ ls' in value:\n",
        "      continue\n",
        "    if numbers.findall(value)[0] == '':\n",
        "      contained_dir[dir].append(dir + '/' + str(value[4:]))\n",
        "\n",
        "    if numbers.findall(value)[0] != '':\n",
        "      size_dir[dir].append(int(numbers.findall(value)[0]))\n",
        "      continue\n",
        "  return size_dir, contained_dir"
      ],
      "metadata": {
        "id": "QZ9lVFBKzeDf"
      },
      "execution_count": null,
      "outputs": []
    },
    {
      "cell_type": "code",
      "source": [
        "size_dir, contained_dir = dir(test)"
      ],
      "metadata": {
        "id": "S-GLdjeKUUTr"
      },
      "execution_count": null,
      "outputs": []
    },
    {
      "cell_type": "code",
      "source": [
        "def add_contained(size, contained):\n",
        "  #from last key to first key\n",
        "  for i in range (1, len(contained_dir) + 1):\n",
        "    for value in contained[list(contained_dir)[- i]]:\n",
        "      size[list(contained_dir)[- i]].extend(size[value])\n",
        "  return size"
      ],
      "metadata": {
        "id": "6cH-d8AVVhSH"
      },
      "execution_count": null,
      "outputs": []
    },
    {
      "cell_type": "code",
      "source": [
        "size_dir = add_contained(size_dir, contained_dir)"
      ],
      "metadata": {
        "id": "7zQjuIpWWJP5"
      },
      "execution_count": null,
      "outputs": []
    },
    {
      "cell_type": "code",
      "source": [
        "def total(size):\n",
        "  for key in size.keys():\n",
        "    size[key] = sum(size[key])\n",
        "\n",
        "  sum_dirs = 0\n",
        "  for value in size.values():\n",
        "    if value <= 100000:\n",
        "      sum_dirs += value\n",
        "\n",
        "  return size, sum_dirs"
      ],
      "metadata": {
        "id": "-yJix7X_NE99"
      },
      "execution_count": null,
      "outputs": []
    },
    {
      "cell_type": "code",
      "source": [
        "total(size_dir)"
      ],
      "metadata": {
        "colab": {
          "base_uri": "https://localhost:8080/"
        },
        "id": "e_ru4hI7Uv6m",
        "outputId": "c9805bb8-1ce9-48fc-b16a-d4609e9fd72c"
      },
      "execution_count": null,
      "outputs": [
        {
          "output_type": "execute_result",
          "data": {
            "text/plain": [
              "({'/': 48381165, '//a': 94853, '//a/e': 584, '//d': 24933642}, 95437)"
            ]
          },
          "metadata": {},
          "execution_count": 244
        }
      ]
    },
    {
      "cell_type": "code",
      "source": [
        "day7 = [line.rstrip() for line in open('day7.txt')]"
      ],
      "metadata": {
        "id": "6FOeTzCp4KUG"
      },
      "execution_count": null,
      "outputs": []
    },
    {
      "cell_type": "code",
      "source": [
        "size_dir, contained_dir = dir(day7)\n",
        "\n",
        "size_dir = add_contained(size_dir, contained_dir)\n",
        "\n",
        "dirs_total_size, total_size =  total(size_dir)\n",
        "total_size"
      ],
      "metadata": {
        "colab": {
          "base_uri": "https://localhost:8080/"
        },
        "id": "Tmp0mDLLUbQM",
        "outputId": "d34d6306-ef11-4970-def5-6717922f9be2"
      },
      "execution_count": null,
      "outputs": [
        {
          "output_type": "execute_result",
          "data": {
            "text/plain": [
              "1443806"
            ]
          },
          "metadata": {},
          "execution_count": 253
        }
      ]
    },
    {
      "cell_type": "markdown",
      "source": [
        "PART 2"
      ],
      "metadata": {
        "id": "ez8bhXHq6Tu5"
      }
    },
    {
      "cell_type": "code",
      "source": [
        "del_dir = []\n",
        "\n",
        "greater_than = 30000000 - (70000000 - dirs_total_size['/'])\n",
        "\n",
        "for value in dirs_total_size.values():\n",
        "  if value >= greater_than:\n",
        "      del_dir.append(value)\n",
        "\n",
        "print(min(del_dir))"
      ],
      "metadata": {
        "id": "6eGzKBkd5cxo",
        "outputId": "56f20639-41b4-41b7-fb59-91e16bc1dcb8",
        "colab": {
          "base_uri": "https://localhost:8080/"
        }
      },
      "execution_count": null,
      "outputs": [
        {
          "output_type": "stream",
          "name": "stdout",
          "text": [
            "942298\n"
          ]
        }
      ]
    },
    {
      "cell_type": "markdown",
      "source": [
        "# Day 8: Treetop Tree House"
      ],
      "metadata": {
        "id": "Ks_aMZwN65kr"
      }
    },
    {
      "cell_type": "code",
      "source": [
        "test =[\n",
        "'30373',\n",
        "'25512',\n",
        "'65332',\n",
        "'33549',\n",
        "'35390'\n",
        "]"
      ],
      "metadata": {
        "id": "qWKCUqRORtDI"
      },
      "execution_count": 3,
      "outputs": []
    },
    {
      "cell_type": "code",
      "source": [
        "def trees_visible(input):\n",
        "  #edges are visible\n",
        "  total_visible =  len(input[0]*2) + len(input)*2 - 4 \n",
        "  visible = 0\n",
        "\n",
        "  for hor in np.arange(1, len(input)-1):\n",
        "    for ver in np.arange(1, len(input[hor])-1):\n",
        "      if hor == 1:\n",
        "        if input[hor][ver] > input[hor-1][ver]: #top\n",
        "          visible = 1\n",
        "          break\n",
        "        elif (ver == 1) & (input[hor][ver] > input[hor][ver-1]): #left\n",
        "          visible = 1\n",
        "          break\n",
        "        elif (ver == len(input[hor])-2) & (input[hor][ver] > input[hor][ver+1]): #right\n",
        "          visible = 1\n",
        "          break\n",
        "      \n",
        "      elif hor == len(input)-2:\n",
        "        if input[hor][ver] > input[hor+1][ver]: #below\n",
        "          visible = 1\n",
        "        elif (ver == 1) & (input[hor][ver] > input[hor][ver-1]): #left\n",
        "          visible = 1\n",
        "        elif (ver == len(input[hor])-2) & (input[hor][ver] > input[hor][ver+1]): #right\n",
        "          visible = 1\n",
        "      \n",
        "      else:\n",
        "        for n_above in reversed(range(hor)):\n",
        "          if (input[hor][ver] <= input[n_above][ver]):\n",
        "            visible = 0\n",
        "            break\n",
        "          else:\n",
        "            visible = 1\n",
        "\n",
        "\n",
        "        for n_below in reversed(range(hor + 1, len(input))):\n",
        "          if (input[hor][ver] <= input[n_below][ver]):\n",
        "            visible = 0\n",
        "            break\n",
        "          else:\n",
        "            visible = 1 \n",
        "\n",
        "        for n_left in reversed(range(ver)):\n",
        "          if (input[hor][ver] <= input[hor][n_left]):\n",
        "            visible = 0\n",
        "            break\n",
        "          else:\n",
        "            visible = 1\n",
        "\n",
        "        for n_right in reversed(range(ver+1, len(input[hor]))):\n",
        "         # print(n_right, hor, ver)\n",
        "          if (input[hor][ver] <= input[hor][n_right]):\n",
        "            visible = 0\n",
        "            break\n",
        "          else:\n",
        "            visible = 1\n",
        "\n",
        "      total_visible += visible \n",
        "      #if visible == 1:\n",
        "       # print(hor, ver)\n",
        "      visible = 0  \n",
        "\n",
        "  return total_visible\n",
        "        #print(input[hor][ver], [hor],[ver])"
      ],
      "metadata": {
        "id": "hr6-DFZTdh5I"
      },
      "execution_count": 77,
      "outputs": []
    },
    {
      "cell_type": "code",
      "source": [
        "for j in range(2):\n",
        "  for i in range(5):\n",
        "    print(i, j)\n",
        "    break"
      ],
      "metadata": {
        "id": "2Z-lHQNAeRJI",
        "outputId": "303f4609-d327-4d5d-9071-5b190c7d3aab",
        "colab": {
          "base_uri": "https://localhost:8080/"
        }
      },
      "execution_count": 32,
      "outputs": [
        {
          "output_type": "stream",
          "name": "stdout",
          "text": [
            "0 0\n",
            "0 1\n"
          ]
        }
      ]
    },
    {
      "cell_type": "code",
      "source": [
        "trees_visible(test)\n",
        " =[\n",
        "'30373',\n",
        "'25512',\n",
        "'65332',\n",
        "'33549',\n",
        "'35390"
      ],
      "metadata": {
        "id": "mYcO4YxWUUDR",
        "outputId": "a8b297c6-60f0-49c1-d56f-b60a47bbe727",
        "colab": {
          "base_uri": "https://localhost:8080/"
        }
      },
      "execution_count": 78,
      "outputs": [
        {
          "output_type": "execute_result",
          "data": {
            "text/plain": [
              "19"
            ]
          },
          "metadata": {},
          "execution_count": 78
        }
      ]
    },
    {
      "cell_type": "code",
      "source": [
        "trees_visible(day8) #too low"
      ],
      "metadata": {
        "id": "AnM85FOJh7E3",
        "outputId": "a4d60e48-b9f2-4f04-eaf6-0b61898cb85a",
        "colab": {
          "base_uri": "https://localhost:8080/"
        }
      },
      "execution_count": 76,
      "outputs": [
        {
          "output_type": "execute_result",
          "data": {
            "text/plain": [
              "920"
            ]
          },
          "metadata": {},
          "execution_count": 76
        }
      ]
    },
    {
      "cell_type": "code",
      "source": [
        "trees_visible(day8) #too high"
      ],
      "metadata": {
        "id": "deqBVyztd22p",
        "outputId": "0073894b-c3d9-4a7e-e607-4b79efe86bd2",
        "colab": {
          "base_uri": "https://localhost:8080/"
        }
      },
      "execution_count": 25,
      "outputs": [
        {
          "output_type": "execute_result",
          "data": {
            "text/plain": [
              "6802"
            ]
          },
          "metadata": {},
          "execution_count": 25
        }
      ]
    },
    {
      "cell_type": "code",
      "source": [
        "test[4]"
      ],
      "metadata": {
        "id": "KK4UhhRjTsuY",
        "outputId": "e846a726-d109-4561-fd68-b78518960f5b",
        "colab": {
          "base_uri": "https://localhost:8080/",
          "height": 35
        }
      },
      "execution_count": 39,
      "outputs": [
        {
          "output_type": "execute_result",
          "data": {
            "text/plain": [
              "'35390'"
            ],
            "application/vnd.google.colaboratory.intrinsic+json": {
              "type": "string"
            }
          },
          "metadata": {},
          "execution_count": 39
        }
      ]
    },
    {
      "cell_type": "code",
      "source": [
        "len(test)"
      ],
      "metadata": {
        "id": "BwL1mxVcS_kB",
        "outputId": "79e2395d-55f7-4710-d893-8c6e569687e5",
        "colab": {
          "base_uri": "https://localhost:8080/"
        }
      },
      "execution_count": 10,
      "outputs": [
        {
          "output_type": "execute_result",
          "data": {
            "text/plain": [
              "5"
            ]
          },
          "metadata": {},
          "execution_count": 10
        }
      ]
    },
    {
      "cell_type": "code",
      "source": [
        "len(test[0]*2)"
      ],
      "metadata": {
        "id": "duLI6OWmTOEA",
        "outputId": "63ee9a30-ad2c-492e-ca13-7ee01be54ae6",
        "colab": {
          "base_uri": "https://localhost:8080/"
        }
      },
      "execution_count": 19,
      "outputs": [
        {
          "output_type": "execute_result",
          "data": {
            "text/plain": [
              "10"
            ]
          },
          "metadata": {},
          "execution_count": 19
        }
      ]
    },
    {
      "cell_type": "code",
      "source": [
        "test[3]"
      ],
      "metadata": {
        "id": "Z6Xn94cBTQzd",
        "outputId": "89195b3b-9334-43bc-adce-d368aa6f6395",
        "colab": {
          "base_uri": "https://localhost:8080/",
          "height": 35
        }
      },
      "execution_count": 65,
      "outputs": [
        {
          "output_type": "execute_result",
          "data": {
            "text/plain": [
              "'33549'"
            ],
            "application/vnd.google.colaboratory.intrinsic+json": {
              "type": "string"
            }
          },
          "metadata": {},
          "execution_count": 65
        }
      ]
    },
    {
      "cell_type": "code",
      "source": [
        "test[1][0]"
      ],
      "metadata": {
        "id": "YdWykkvYTUY7",
        "outputId": "0f619120-f901-4dd7-91a7-fc5a64681ad1",
        "colab": {
          "base_uri": "https://localhost:8080/",
          "height": 35
        }
      },
      "execution_count": 13,
      "outputs": [
        {
          "output_type": "execute_result",
          "data": {
            "text/plain": [
              "'2'"
            ],
            "application/vnd.google.colaboratory.intrinsic+json": {
              "type": "string"
            }
          },
          "metadata": {},
          "execution_count": 13
        }
      ]
    },
    {
      "cell_type": "code",
      "source": [
        "test[1][-1]"
      ],
      "metadata": {
        "id": "J-afTNl8TYdM",
        "outputId": "03f4514c-52ab-4f0d-889a-33197efcbdc0",
        "colab": {
          "base_uri": "https://localhost:8080/",
          "height": 35
        }
      },
      "execution_count": 14,
      "outputs": [
        {
          "output_type": "execute_result",
          "data": {
            "text/plain": [
              "'2'"
            ],
            "application/vnd.google.colaboratory.intrinsic+json": {
              "type": "string"
            }
          },
          "metadata": {},
          "execution_count": 14
        }
      ]
    },
    {
      "cell_type": "code",
      "source": [
        "day8 = [line.rstrip() for line in open('day8.txt')]"
      ],
      "metadata": {
        "id": "P9zO1J0B5W34"
      },
      "execution_count": 24,
      "outputs": []
    },
    {
      "cell_type": "code",
      "source": [
        "len(day8[2])"
      ],
      "metadata": {
        "id": "W5dKarN4id0T",
        "outputId": "39fe010e-f4d5-4806-f1f0-5b31e7e6adc2",
        "colab": {
          "base_uri": "https://localhost:8080/"
        }
      },
      "execution_count": 54,
      "outputs": [
        {
          "output_type": "execute_result",
          "data": {
            "text/plain": [
              "99"
            ]
          },
          "metadata": {},
          "execution_count": 54
        }
      ]
    },
    {
      "cell_type": "code",
      "source": [
        "day8[2]"
      ],
      "metadata": {
        "id": "Q_brLBZxRnjU",
        "outputId": "846f8c1e-1e1d-48b4-fcc1-40a6acfd7194",
        "colab": {
          "base_uri": "https://localhost:8080/",
          "height": 35
        }
      },
      "execution_count": 57,
      "outputs": [
        {
          "output_type": "execute_result",
          "data": {
            "text/plain": [
              "'102112213233022132323042313331110325141414514433444245122521543551413102221240240323013132010021012'"
            ],
            "application/vnd.google.colaboratory.intrinsic+json": {
              "type": "string"
            }
          },
          "metadata": {},
          "execution_count": 57
        }
      ]
    },
    {
      "cell_type": "code",
      "source": [],
      "metadata": {
        "id": "G61KGlFfiOJd"
      },
      "execution_count": null,
      "outputs": []
    }
  ]
}