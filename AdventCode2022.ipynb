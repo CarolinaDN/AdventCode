{
  "nbformat": 4,
  "nbformat_minor": 0,
  "metadata": {
    "colab": {
      "provenance": [],
      "authorship_tag": "ABX9TyMr7JkEm7LS+2KnLu+X5Sit",
      "include_colab_link": true
    },
    "kernelspec": {
      "name": "python3",
      "display_name": "Python 3"
    },
    "language_info": {
      "name": "python"
    }
  },
  "cells": [
    {
      "cell_type": "markdown",
      "metadata": {
        "id": "view-in-github",
        "colab_type": "text"
      },
      "source": [
        "<a href=\"https://colab.research.google.com/github/CarolinaDN/AdventCode2022/blob/main/AdventCode2022.ipynb\" target=\"_parent\"><img src=\"https://colab.research.google.com/assets/colab-badge.svg\" alt=\"Open In Colab\"/></a>"
      ]
    },
    {
      "cell_type": "markdown",
      "source": [
        "#Day 1: Calorie Counting\n"
      ],
      "metadata": {
        "id": "X15Z7vUvTSEU"
      }
    },
    {
      "cell_type": "code",
      "source": [
        "inventory_test = [1000,2000,3000,'',4000,'',5000,6000,'',7000,8000,9000,'',10000]\n",
        "alist = [line.rstrip() for line in open('day1.txt')]"
      ],
      "metadata": {
        "id": "VvsvXhtMjHLF"
      },
      "execution_count": 76,
      "outputs": []
    },
    {
      "cell_type": "code",
      "execution_count": 77,
      "metadata": {
        "colab": {
          "base_uri": "https://localhost:8080/"
        },
        "id": "8UrHLIsjTPne",
        "outputId": "0b9f909c-04a3-4bdf-9987-77dd15ea9f3c"
      },
      "outputs": [
        {
          "output_type": "execute_result",
          "data": {
            "text/plain": [
              "(24000, 71471)"
            ]
          },
          "metadata": {},
          "execution_count": 77
        }
      ],
      "source": [
        "def max_calories(inventory):\n",
        "  total_calories = 0 \n",
        "  list_calories = []\n",
        "\n",
        "  for food in inventory:\n",
        "    if food == '':\n",
        "      list_calories.append(total_calories)\n",
        "      total_calories = 0\n",
        "\n",
        "    else:\n",
        "      total_calories = int(food) + total_calories\n",
        "\n",
        "  max_calories = max(list_calories)\n",
        "\n",
        "  return max_calories\n",
        "\n",
        "\n",
        "max_calories(inventory_test), max_calories(alist)"
      ]
    },
    {
      "cell_type": "code",
      "source": [
        "def max_calories_top3(inventory):\n",
        "  total_calories = 0 \n",
        "  list_calories = []\n",
        "\n",
        "  for food in inventory:\n",
        "    if food == '':\n",
        "      list_calories.append(total_calories)\n",
        "      total_calories = 0\n",
        "\n",
        "    else:\n",
        "      total_calories = int(food) + total_calories\n",
        "\n",
        "  list_calories.sort(reverse=True)\n",
        "  top3 = sum(list_calories[:3])\n",
        "\n",
        "  return top3\n",
        "\n",
        "max_calories_top3(alist)"
      ],
      "metadata": {
        "colab": {
          "base_uri": "https://localhost:8080/"
        },
        "id": "JgdoXJ_yZ0Tn",
        "outputId": "17fd51c3-4b05-4ad9-e511-e68f91845cef"
      },
      "execution_count": 79,
      "outputs": [
        {
          "output_type": "execute_result",
          "data": {
            "text/plain": [
              "211189"
            ]
          },
          "metadata": {},
          "execution_count": 79
        }
      ]
    },
    {
      "cell_type": "markdown",
      "source": [
        "#Day 2: Rock Paper Scissors"
      ],
      "metadata": {
        "id": "EZbJpNxBeBBG"
      }
    },
    {
      "cell_type": "code",
      "source": [
        "test = [['A','Y'],\n",
        "['B', 'X'],\n",
        "['C' ,'Z']]\n",
        "\n",
        "day2 = [line.rstrip().split() for line in open('day2.txt')]"
      ],
      "metadata": {
        "id": "HGRiBBCfqMCu"
      },
      "execution_count": 80,
      "outputs": []
    },
    {
      "cell_type": "code",
      "source": [
        "def replace_all(text, dic):\n",
        "    for i, j in dic.items():\n",
        "        text = text.replace(i, j)\n",
        "    return text"
      ],
      "metadata": {
        "id": "3KuYtNKpnsy8"
      },
      "execution_count": 81,
      "outputs": []
    },
    {
      "cell_type": "code",
      "source": [
        "def rock_paper_scissors(rounds):\n",
        "  score = 0\n",
        "\n",
        "  for round in rounds:\n",
        "    score +=1 #considers rock\n",
        "    \n",
        "    #considers paper\n",
        "    if round[1] == 'Y':\n",
        "      score +=1 \n",
        "    #considers scissors \n",
        "    elif round[1]=='Z': \n",
        "      score +=2 \n",
        "\n",
        "    dic = { \"X\": \"A\", \"Y\": \"B\", \"Z\":\"C\"}\n",
        "\n",
        "    round = list(map(lambda x: replace_all(x, dic), round))\n",
        "    \n",
        "    if round[0] == round[1]: #ties\n",
        "      score += 3\n",
        "    \n",
        "    #wins\n",
        "    if (round[0] == 'A') & ( round[1] == 'B'):\n",
        "      score +=6\n",
        "    \n",
        "    if (round[0] == 'B') & ( round[1] == 'C'):\n",
        "      score +=6\n",
        "\n",
        "    if (round[0] == 'C') & ( round[1] == 'A'):\n",
        "      score +=6\n",
        "\n",
        "  return score\n",
        "rock_paper_scissors(test), rock_paper_scissors(day2)"
      ],
      "metadata": {
        "colab": {
          "base_uri": "https://localhost:8080/"
        },
        "id": "14ZubFdMhAS0",
        "outputId": "0ecd2093-029f-4d2f-ddbc-b83baf718386"
      },
      "execution_count": 82,
      "outputs": [
        {
          "output_type": "execute_result",
          "data": {
            "text/plain": [
              "(15, 11475)"
            ]
          },
          "metadata": {},
          "execution_count": 82
        }
      ]
    },
    {
      "cell_type": "code",
      "source": [
        "def rock_paper_scissors_part2(rounds):\n",
        "  score = 0\n",
        "\n",
        "  for round in rounds:\n",
        "    score +=1 #considers we choose rock \n",
        "  \n",
        "    if round[1] == 'Y': #ties\n",
        "      score += 3\n",
        "      if round[0] == 'B': #paper\n",
        "        score +=1 \n",
        "      if round[0] == 'C': #scissor\n",
        "        score +=2 \n",
        "    \n",
        "    if round[1] == 'X': #loss\n",
        "      if (round[0] == 'A'): #he puts rock we choose scissor\n",
        "        score +=2  \n",
        "      if (round[0] == 'C'): #he puts scissor we choose paper\n",
        "        score +=1 \n",
        "\n",
        "    if round[1] == 'Z': #win\n",
        "      score += 6\n",
        "      if (round[0] == 'A'): #he puts rock we choose paper\n",
        "        score +=1 \n",
        "      if (round[0] == 'B'): #he puts paper we choose scissor\n",
        "        score +=2\n",
        "\n",
        "  return score\n",
        "rock_paper_scissors_part2(test), rock_paper_scissors_part2(day2)"
      ],
      "metadata": {
        "colab": {
          "base_uri": "https://localhost:8080/"
        },
        "id": "gvBZhc_vuRVt",
        "outputId": "287cb30e-72ce-4a5e-aec1-ff5f3461f78c"
      },
      "execution_count": 83,
      "outputs": [
        {
          "output_type": "execute_result",
          "data": {
            "text/plain": [
              "(12, 16862)"
            ]
          },
          "metadata": {},
          "execution_count": 83
        }
      ]
    },
    {
      "cell_type": "markdown",
      "source": [
        "# Day 3: Rucksack Reorganization"
      ],
      "metadata": {
        "id": "hB5qY4HmzqIk"
      }
    },
    {
      "cell_type": "code",
      "source": [
        "test = ['vJrwpWtwJgWrhcsFMMfFFhFp',\n",
        "'jqHRNqRjqzjGDLGLrsFMfFZSrLrFZsSL',\n",
        "'PmmdzqPrVvPwwTWBwg',\n",
        "'wMqvLMZHhHMvwLHjbvcjnnSBnvTQFn',\n",
        "'ttgJtRGJQctTZtZT',\n",
        "'CrZsJsPPZsGzwwsLwLmpwMDw']\n",
        "\n",
        "day3 = [line.rstrip() for line in open('day3.txt')]"
      ],
      "metadata": {
        "id": "Bm5WoPc7xvz1"
      },
      "execution_count": 84,
      "outputs": []
    },
    {
      "cell_type": "code",
      "source": [
        "import string\n",
        "import numpy as np \n",
        "alphabet = list(string.ascii_letters)\n",
        "priorities = {alphabet[i]: np.arange(1,53)[i] for i in range(len(alphabet))}"
      ],
      "metadata": {
        "id": "S9e3Leg-PVOO"
      },
      "execution_count": 85,
      "outputs": []
    },
    {
      "cell_type": "code",
      "source": [
        "def rucksack_priorities(rucksacks):\n",
        "  priority_values = []\n",
        "\n",
        "  for items in rucksacks:\n",
        "    len_compartment = int(len(items)/2)\n",
        "    compartment1, compartment2 =  set(items[:len_compartment]), set(items[len_compartment:])\n",
        "    common_item =  [common for common in compartment1 if common in compartment2] \n",
        "    priority_values.append(priorities.get(common_item[0]))\n",
        "  \n",
        "  return sum(priority_values)\n",
        "\n",
        "rucksack_priorities(test), rucksack_priorities(day3)"
      ],
      "metadata": {
        "colab": {
          "base_uri": "https://localhost:8080/"
        },
        "id": "-LVylrD1TBeD",
        "outputId": "e908da63-72da-488d-8600-9dce992a6dc9"
      },
      "execution_count": 86,
      "outputs": [
        {
          "output_type": "execute_result",
          "data": {
            "text/plain": [
              "(157, 7848)"
            ]
          },
          "metadata": {},
          "execution_count": 86
        }
      ]
    },
    {
      "cell_type": "code",
      "source": [
        "def rucksack_priorities_badge(rucksacks):\n",
        "  priority_values = []\n",
        "\n",
        "  for items in range(0, len(rucksacks), 3):\n",
        "    group = rucksacks[items:items+3]\n",
        "\n",
        "    rucksack1, rucksack2, rucksack3 = set(group[0]), set(group[1]), set(group[2])\n",
        "    common_item =  [common for common in rucksack1 if (common in rucksack2) & (common in rucksack3)]\n",
        "\n",
        "    priority_values.append(priorities.get(common_item[0]))\n",
        "\n",
        "  return sum(priority_values)\n",
        "\n",
        "rucksack_priorities_badge(test), rucksack_priorities_badge(day3)"
      ],
      "metadata": {
        "colab": {
          "base_uri": "https://localhost:8080/"
        },
        "id": "UwdwOdSaZPRA",
        "outputId": "861a42db-7cb5-44fc-e0dc-de9555d7504b"
      },
      "execution_count": 87,
      "outputs": [
        {
          "output_type": "execute_result",
          "data": {
            "text/plain": [
              "(70, 2616)"
            ]
          },
          "metadata": {},
          "execution_count": 87
        }
      ]
    },
    {
      "cell_type": "markdown",
      "source": [
        "# Day 4: Camp Cleanup"
      ],
      "metadata": {
        "id": "8Hr34EqJkVxJ"
      }
    },
    {
      "cell_type": "code",
      "source": [
        "test = ['2-4,6-8',\n",
        "'2-3,4-5',\n",
        "'5-7,7-9',\n",
        "'2-8,3-7',\n",
        "'6-6,4-6',\n",
        "'2-6,4-8']\n",
        "\n",
        "day4 = [line.rstrip() for line in open('day4.txt')]"
      ],
      "metadata": {
        "id": "AtURTYRwYwz9"
      },
      "execution_count": 1,
      "outputs": []
    },
    {
      "cell_type": "code",
      "source": [
        "def cleanup(distribution):\n",
        "  contain_other = 0\n",
        "  overlapp = 0\n",
        "  for pair in distribution:\n",
        "    pair = pair.split('-')\n",
        "    first_elf = [i for i in range(int(pair[0]), int(pair[1].split(',')[0])+1)]\n",
        "    second_elf = [i for i in range(int(pair[1].split(',')[1]), int(pair[2])+1)]\n",
        "\n",
        "    #part 1\n",
        "    if set(first_elf).issubset(set(second_elf)) or set(second_elf).issubset(set(first_elf)):\n",
        "      contain_other += 1\n",
        "\n",
        "    #part 2\n",
        "    if list(set(first_elf) & set(second_elf)) != []:\n",
        "      overlapp += 1\n",
        "\n",
        "  return contain_other, overlapp\n",
        "\n",
        "cleanup(test), cleanup(day4)"
      ],
      "metadata": {
        "colab": {
          "base_uri": "https://localhost:8080/"
        },
        "id": "tZc3cmBiq1dO",
        "outputId": "38e1cddb-fb15-4bc6-b1fd-0dd6c300df7b"
      },
      "execution_count": 22,
      "outputs": [
        {
          "output_type": "execute_result",
          "data": {
            "text/plain": [
              "((2, 4), (448, 794))"
            ]
          },
          "metadata": {},
          "execution_count": 22
        }
      ]
    },
    {
      "cell_type": "markdown",
      "source": [
        "# Day 5: Supply Stacks"
      ],
      "metadata": {
        "id": "QcFs_wVJkAhW"
      }
    },
    {
      "cell_type": "markdown",
      "source": [
        "I'm complicating, simplify, think about dictionaries"
      ],
      "metadata": {
        "id": "9YWhHdxfr3-2"
      }
    },
    {
      "cell_type": "code",
      "source": [
        "test = ['    [D]    ',\n",
        "'[N] [C]    ',\n",
        "'[Z] [M] [P]',\n",
        "' 1   2   3 ',\n",
        "'',\n",
        "'move 1 from 2 to 1',\n",
        "'move 3 from 1 to 3',\n",
        "'move 2 from 2 to 1',\n",
        "'move 1 from 1 to 2']\n",
        "test"
      ],
      "metadata": {
        "colab": {
          "base_uri": "https://localhost:8080/"
        },
        "id": "BUv83hOHkF9c",
        "outputId": "e30737f0-40ce-48d4-97a2-bc68bcb45fb7"
      },
      "execution_count": 9,
      "outputs": [
        {
          "output_type": "execute_result",
          "data": {
            "text/plain": [
              "['    [D]    ',\n",
              " '[N] [C]    ',\n",
              " '[Z] [M] [P]',\n",
              " ' 1   2   3 ',\n",
              " '',\n",
              " 'move 1 from 2 to 1',\n",
              " 'move 3 from 1 to 3',\n",
              " 'move 2 from 2 to 1',\n",
              " 'move 1 from 1 to 2']"
            ]
          },
          "metadata": {},
          "execution_count": 9
        }
      ]
    },
    {
      "cell_type": "code",
      "source": [
        "stack=[]\n",
        "for i in test:\n",
        "  if i != '':\n",
        "    stack.append(i.split(' ['))\n",
        "  else:\n",
        "    break"
      ],
      "metadata": {
        "id": "-IuF8_brTLc8"
      },
      "execution_count": 174,
      "outputs": []
    },
    {
      "cell_type": "code",
      "source": [
        "stack"
      ],
      "metadata": {
        "colab": {
          "base_uri": "https://localhost:8080/"
        },
        "id": "DB3jsin5rMoM",
        "outputId": "d63ebb57-081f-423e-c27c-fda421e2b2c0"
      },
      "execution_count": 175,
      "outputs": [
        {
          "output_type": "execute_result",
          "data": {
            "text/plain": [
              "[['   ', 'D]    '], ['[N]', 'C]    '], ['[Z]', 'M]', 'P]'], [' 1   2   3 ']]"
            ]
          },
          "metadata": {},
          "execution_count": 175
        }
      ]
    },
    {
      "cell_type": "code",
      "source": [
        "import pandas as pd\n",
        "import numpy as np\n",
        "df = pd.DataFrame(stack[:-1]).replace(']','', regex=True).replace('\\[','', regex=True).replace(' ', '')\n",
        "df.columns = df.index +1\n",
        "for column in df.columns:\n",
        "  df[column] = df[column].str.strip()\n",
        "df"
      ],
      "metadata": {
        "colab": {
          "base_uri": "https://localhost:8080/",
          "height": 143
        },
        "id": "-XCH0tLbZXZg",
        "outputId": "5cc8c601-dbb2-4424-dcf9-c8e4c2c5d06a"
      },
      "execution_count": 171,
      "outputs": [
        {
          "output_type": "execute_result",
          "data": {
            "text/plain": [
              "   1  2     3\n",
              "0     D  None\n",
              "1  N  C  None\n",
              "2  Z  M     P"
            ],
            "text/html": [
              "\n",
              "  <div id=\"df-d6a145c3-60f9-4a38-af0f-8a4180e6010e\">\n",
              "    <div class=\"colab-df-container\">\n",
              "      <div>\n",
              "<style scoped>\n",
              "    .dataframe tbody tr th:only-of-type {\n",
              "        vertical-align: middle;\n",
              "    }\n",
              "\n",
              "    .dataframe tbody tr th {\n",
              "        vertical-align: top;\n",
              "    }\n",
              "\n",
              "    .dataframe thead th {\n",
              "        text-align: right;\n",
              "    }\n",
              "</style>\n",
              "<table border=\"1\" class=\"dataframe\">\n",
              "  <thead>\n",
              "    <tr style=\"text-align: right;\">\n",
              "      <th></th>\n",
              "      <th>1</th>\n",
              "      <th>2</th>\n",
              "      <th>3</th>\n",
              "    </tr>\n",
              "  </thead>\n",
              "  <tbody>\n",
              "    <tr>\n",
              "      <th>0</th>\n",
              "      <td></td>\n",
              "      <td>D</td>\n",
              "      <td>None</td>\n",
              "    </tr>\n",
              "    <tr>\n",
              "      <th>1</th>\n",
              "      <td>N</td>\n",
              "      <td>C</td>\n",
              "      <td>None</td>\n",
              "    </tr>\n",
              "    <tr>\n",
              "      <th>2</th>\n",
              "      <td>Z</td>\n",
              "      <td>M</td>\n",
              "      <td>P</td>\n",
              "    </tr>\n",
              "  </tbody>\n",
              "</table>\n",
              "</div>\n",
              "      <button class=\"colab-df-convert\" onclick=\"convertToInteractive('df-d6a145c3-60f9-4a38-af0f-8a4180e6010e')\"\n",
              "              title=\"Convert this dataframe to an interactive table.\"\n",
              "              style=\"display:none;\">\n",
              "        \n",
              "  <svg xmlns=\"http://www.w3.org/2000/svg\" height=\"24px\"viewBox=\"0 0 24 24\"\n",
              "       width=\"24px\">\n",
              "    <path d=\"M0 0h24v24H0V0z\" fill=\"none\"/>\n",
              "    <path d=\"M18.56 5.44l.94 2.06.94-2.06 2.06-.94-2.06-.94-.94-2.06-.94 2.06-2.06.94zm-11 1L8.5 8.5l.94-2.06 2.06-.94-2.06-.94L8.5 2.5l-.94 2.06-2.06.94zm10 10l.94 2.06.94-2.06 2.06-.94-2.06-.94-.94-2.06-.94 2.06-2.06.94z\"/><path d=\"M17.41 7.96l-1.37-1.37c-.4-.4-.92-.59-1.43-.59-.52 0-1.04.2-1.43.59L10.3 9.45l-7.72 7.72c-.78.78-.78 2.05 0 2.83L4 21.41c.39.39.9.59 1.41.59.51 0 1.02-.2 1.41-.59l7.78-7.78 2.81-2.81c.8-.78.8-2.07 0-2.86zM5.41 20L4 18.59l7.72-7.72 1.47 1.35L5.41 20z\"/>\n",
              "  </svg>\n",
              "      </button>\n",
              "      \n",
              "  <style>\n",
              "    .colab-df-container {\n",
              "      display:flex;\n",
              "      flex-wrap:wrap;\n",
              "      gap: 12px;\n",
              "    }\n",
              "\n",
              "    .colab-df-convert {\n",
              "      background-color: #E8F0FE;\n",
              "      border: none;\n",
              "      border-radius: 50%;\n",
              "      cursor: pointer;\n",
              "      display: none;\n",
              "      fill: #1967D2;\n",
              "      height: 32px;\n",
              "      padding: 0 0 0 0;\n",
              "      width: 32px;\n",
              "    }\n",
              "\n",
              "    .colab-df-convert:hover {\n",
              "      background-color: #E2EBFA;\n",
              "      box-shadow: 0px 1px 2px rgba(60, 64, 67, 0.3), 0px 1px 3px 1px rgba(60, 64, 67, 0.15);\n",
              "      fill: #174EA6;\n",
              "    }\n",
              "\n",
              "    [theme=dark] .colab-df-convert {\n",
              "      background-color: #3B4455;\n",
              "      fill: #D2E3FC;\n",
              "    }\n",
              "\n",
              "    [theme=dark] .colab-df-convert:hover {\n",
              "      background-color: #434B5C;\n",
              "      box-shadow: 0px 1px 3px 1px rgba(0, 0, 0, 0.15);\n",
              "      filter: drop-shadow(0px 1px 2px rgba(0, 0, 0, 0.3));\n",
              "      fill: #FFFFFF;\n",
              "    }\n",
              "  </style>\n",
              "\n",
              "      <script>\n",
              "        const buttonEl =\n",
              "          document.querySelector('#df-d6a145c3-60f9-4a38-af0f-8a4180e6010e button.colab-df-convert');\n",
              "        buttonEl.style.display =\n",
              "          google.colab.kernel.accessAllowed ? 'block' : 'none';\n",
              "\n",
              "        async function convertToInteractive(key) {\n",
              "          const element = document.querySelector('#df-d6a145c3-60f9-4a38-af0f-8a4180e6010e');\n",
              "          const dataTable =\n",
              "            await google.colab.kernel.invokeFunction('convertToInteractive',\n",
              "                                                     [key], {});\n",
              "          if (!dataTable) return;\n",
              "\n",
              "          const docLinkHtml = 'Like what you see? Visit the ' +\n",
              "            '<a target=\"_blank\" href=https://colab.research.google.com/notebooks/data_table.ipynb>data table notebook</a>'\n",
              "            + ' to learn more about interactive tables.';\n",
              "          element.innerHTML = '';\n",
              "          dataTable['output_type'] = 'display_data';\n",
              "          await google.colab.output.renderOutput(dataTable, element);\n",
              "          const docLink = document.createElement('div');\n",
              "          docLink.innerHTML = docLinkHtml;\n",
              "          element.appendChild(docLink);\n",
              "        }\n",
              "      </script>\n",
              "    </div>\n",
              "  </div>\n",
              "  "
            ]
          },
          "metadata": {},
          "execution_count": 171
        }
      ]
    },
    {
      "cell_type": "code",
      "source": [
        "df[1].unique()"
      ],
      "metadata": {
        "colab": {
          "base_uri": "https://localhost:8080/"
        },
        "id": "DFDrCcojqcjV",
        "outputId": "38d374c4-1ecf-4855-f2dd-748a88cfce8c"
      },
      "execution_count": 157,
      "outputs": [
        {
          "output_type": "execute_result",
          "data": {
            "text/plain": [
              "array(['', 'N', 'Z'], dtype=object)"
            ]
          },
          "metadata": {},
          "execution_count": 157
        }
      ]
    },
    {
      "cell_type": "code",
      "source": [
        "df[2][:1]"
      ],
      "metadata": {
        "colab": {
          "base_uri": "https://localhost:8080/"
        },
        "id": "3CrE1uBwoGHJ",
        "outputId": "53db2ab4-09ee-435d-9b82-a260bdf02501"
      },
      "execution_count": 141,
      "outputs": [
        {
          "output_type": "execute_result",
          "data": {
            "text/plain": [
              "0    D\n",
              "Name: 2, dtype: object"
            ]
          },
          "metadata": {},
          "execution_count": 141
        }
      ]
    },
    {
      "cell_type": "code",
      "source": [
        "pd.concat([df[2][:1], df[1]])#.replace('', np.nan())"
      ],
      "metadata": {
        "colab": {
          "base_uri": "https://localhost:8080/"
        },
        "id": "ebK3BNtMpeMb",
        "outputId": "36b260ac-2edf-4f67-e523-9a560cedacb1"
      },
      "execution_count": 181,
      "outputs": [
        {
          "output_type": "execute_result",
          "data": {
            "text/plain": [
              "0    D\n",
              "0     \n",
              "1    N\n",
              "2    Z\n",
              "dtype: object"
            ]
          },
          "metadata": {},
          "execution_count": 181
        }
      ]
    },
    {
      "cell_type": "code",
      "source": [
        "day5 = [line.rstrip() for line in open('day5.txt')]"
      ],
      "metadata": {
        "id": "r6sHoEdFSS0l"
      },
      "execution_count": 2,
      "outputs": []
    },
    {
      "cell_type": "code",
      "source": [
        "day5"
      ],
      "metadata": {
        "colab": {
          "base_uri": "https://localhost:8080/"
        },
        "id": "XPAP7j-VST0J",
        "outputId": "fda2b7a8-68aa-4b98-a1b8-9c4e0827acbf"
      },
      "execution_count": 3,
      "outputs": [
        {
          "output_type": "execute_result",
          "data": {
            "text/plain": [
              "['    [G] [R]                 [P]',\n",
              " '    [H] [W]     [T] [P]     [H]',\n",
              " '    [F] [T] [P] [B] [D]     [N]',\n",
              " '[L] [T] [M] [Q] [L] [C]     [Z]',\n",
              " '[C] [C] [N] [V] [S] [H]     [V] [G]',\n",
              " '[G] [L] [F] [D] [M] [V] [T] [J] [H]',\n",
              " '[M] [D] [J] [F] [F] [N] [C] [S] [F]',\n",
              " '[Q] [R] [V] [J] [N] [R] [H] [G] [Z]',\n",
              " ' 1   2   3   4   5   6   7   8   9',\n",
              " '',\n",
              " 'move 5 from 8 to 2',\n",
              " 'move 2 from 4 to 5',\n",
              " 'move 3 from 3 to 9',\n",
              " 'move 4 from 1 to 8',\n",
              " 'move 5 from 9 to 1',\n",
              " 'move 3 from 3 to 8',\n",
              " 'move 2 from 4 to 7',\n",
              " 'move 6 from 6 to 5',\n",
              " 'move 5 from 2 to 4',\n",
              " 'move 2 from 9 to 1',\n",
              " 'move 1 from 7 to 1',\n",
              " 'move 4 from 7 to 3',\n",
              " 'move 5 from 1 to 5',\n",
              " 'move 3 from 1 to 4',\n",
              " 'move 8 from 5 to 3',\n",
              " 'move 7 from 3 to 2',\n",
              " 'move 10 from 4 to 7',\n",
              " 'move 1 from 7 to 3',\n",
              " 'move 1 from 6 to 2',\n",
              " 'move 3 from 8 to 4',\n",
              " 'move 4 from 3 to 2',\n",
              " 'move 1 from 1 to 2',\n",
              " 'move 4 from 3 to 1',\n",
              " 'move 2 from 1 to 7',\n",
              " 'move 3 from 5 to 1',\n",
              " 'move 7 from 8 to 4',\n",
              " 'move 9 from 5 to 1',\n",
              " 'move 9 from 2 to 7',\n",
              " 'move 6 from 4 to 9',\n",
              " 'move 14 from 7 to 5',\n",
              " 'move 2 from 1 to 4',\n",
              " 'move 6 from 7 to 1',\n",
              " 'move 4 from 4 to 9',\n",
              " 'move 6 from 2 to 8',\n",
              " 'move 2 from 4 to 9',\n",
              " 'move 2 from 9 to 3',\n",
              " 'move 3 from 8 to 3',\n",
              " 'move 5 from 9 to 4',\n",
              " 'move 1 from 2 to 9',\n",
              " 'move 5 from 5 to 3',\n",
              " 'move 3 from 2 to 7',\n",
              " 'move 1 from 1 to 4',\n",
              " 'move 3 from 7 to 5',\n",
              " 'move 4 from 9 to 6',\n",
              " 'move 2 from 9 to 3',\n",
              " 'move 5 from 1 to 6',\n",
              " 'move 7 from 6 to 5',\n",
              " 'move 1 from 2 to 3',\n",
              " 'move 10 from 1 to 5',\n",
              " 'move 1 from 8 to 3',\n",
              " 'move 14 from 3 to 7',\n",
              " 'move 1 from 8 to 4',\n",
              " 'move 2 from 6 to 1',\n",
              " 'move 28 from 5 to 9',\n",
              " 'move 1 from 2 to 1',\n",
              " 'move 5 from 4 to 6',\n",
              " 'move 2 from 4 to 3',\n",
              " 'move 13 from 7 to 8',\n",
              " 'move 1 from 3 to 5',\n",
              " 'move 1 from 5 to 2',\n",
              " 'move 1 from 3 to 6',\n",
              " 'move 1 from 5 to 6',\n",
              " 'move 22 from 9 to 1',\n",
              " 'move 1 from 2 to 7',\n",
              " 'move 3 from 9 to 5',\n",
              " 'move 2 from 7 to 5',\n",
              " 'move 18 from 1 to 4',\n",
              " 'move 7 from 8 to 3',\n",
              " 'move 4 from 6 to 8',\n",
              " 'move 2 from 5 to 8',\n",
              " 'move 5 from 3 to 9',\n",
              " 'move 2 from 5 to 1',\n",
              " 'move 3 from 6 to 8',\n",
              " 'move 1 from 5 to 9',\n",
              " 'move 2 from 3 to 6',\n",
              " 'move 10 from 1 to 5',\n",
              " 'move 15 from 8 to 6',\n",
              " 'move 10 from 6 to 8',\n",
              " 'move 1 from 9 to 4',\n",
              " 'move 1 from 1 to 3',\n",
              " 'move 4 from 4 to 3',\n",
              " 'move 5 from 3 to 5',\n",
              " 'move 9 from 5 to 6',\n",
              " 'move 13 from 6 to 5',\n",
              " 'move 8 from 5 to 7',\n",
              " 'move 8 from 9 to 6',\n",
              " 'move 2 from 6 to 4',\n",
              " 'move 2 from 6 to 2',\n",
              " 'move 3 from 7 to 4',\n",
              " 'move 2 from 2 to 8',\n",
              " 'move 1 from 5 to 4',\n",
              " 'move 3 from 7 to 9',\n",
              " 'move 1 from 5 to 9',\n",
              " 'move 5 from 6 to 9',\n",
              " 'move 10 from 8 to 3',\n",
              " 'move 3 from 8 to 1',\n",
              " 'move 5 from 9 to 2',\n",
              " 'move 1 from 6 to 4',\n",
              " 'move 4 from 5 to 6',\n",
              " 'move 7 from 3 to 7',\n",
              " 'move 5 from 6 to 5',\n",
              " 'move 19 from 4 to 8',\n",
              " 'move 15 from 8 to 3',\n",
              " 'move 2 from 1 to 5',\n",
              " 'move 7 from 5 to 9',\n",
              " 'move 2 from 7 to 2',\n",
              " 'move 3 from 3 to 8',\n",
              " 'move 5 from 5 to 8',\n",
              " 'move 10 from 9 to 3',\n",
              " 'move 1 from 4 to 2',\n",
              " 'move 10 from 8 to 3',\n",
              " 'move 29 from 3 to 2',\n",
              " 'move 2 from 3 to 4',\n",
              " 'move 1 from 1 to 5',\n",
              " 'move 2 from 8 to 4',\n",
              " 'move 1 from 9 to 1',\n",
              " 'move 1 from 3 to 9',\n",
              " 'move 1 from 1 to 9',\n",
              " 'move 2 from 3 to 4',\n",
              " 'move 33 from 2 to 1',\n",
              " 'move 2 from 2 to 4',\n",
              " 'move 1 from 3 to 1',\n",
              " 'move 22 from 1 to 2',\n",
              " 'move 6 from 4 to 9',\n",
              " 'move 4 from 7 to 1',\n",
              " 'move 16 from 1 to 4',\n",
              " 'move 3 from 7 to 6',\n",
              " 'move 2 from 9 to 4',\n",
              " 'move 1 from 5 to 2',\n",
              " 'move 9 from 4 to 2',\n",
              " 'move 1 from 6 to 5',\n",
              " 'move 7 from 4 to 2',\n",
              " 'move 6 from 9 to 8',\n",
              " 'move 4 from 4 to 9',\n",
              " 'move 4 from 8 to 3',\n",
              " 'move 2 from 4 to 3',\n",
              " 'move 2 from 2 to 5',\n",
              " 'move 2 from 5 to 2',\n",
              " 'move 1 from 5 to 6',\n",
              " 'move 3 from 9 to 5',\n",
              " 'move 1 from 6 to 8',\n",
              " 'move 2 from 6 to 5',\n",
              " 'move 1 from 3 to 2',\n",
              " 'move 1 from 8 to 4',\n",
              " 'move 2 from 8 to 2',\n",
              " 'move 5 from 5 to 6',\n",
              " 'move 44 from 2 to 8',\n",
              " 'move 1 from 4 to 8',\n",
              " 'move 3 from 6 to 8',\n",
              " 'move 2 from 6 to 2',\n",
              " 'move 37 from 8 to 3',\n",
              " 'move 1 from 9 to 4',\n",
              " 'move 1 from 2 to 5',\n",
              " 'move 5 from 8 to 6',\n",
              " 'move 1 from 4 to 6',\n",
              " 'move 1 from 2 to 4',\n",
              " 'move 16 from 3 to 2',\n",
              " 'move 1 from 4 to 5',\n",
              " 'move 1 from 8 to 3',\n",
              " 'move 4 from 8 to 2',\n",
              " 'move 1 from 8 to 7',\n",
              " 'move 2 from 5 to 8',\n",
              " 'move 15 from 2 to 4',\n",
              " 'move 5 from 6 to 3',\n",
              " 'move 1 from 7 to 4',\n",
              " 'move 1 from 8 to 9',\n",
              " 'move 1 from 6 to 7',\n",
              " 'move 1 from 8 to 3',\n",
              " 'move 2 from 2 to 8',\n",
              " 'move 1 from 9 to 3',\n",
              " 'move 2 from 8 to 4',\n",
              " 'move 1 from 4 to 6',\n",
              " 'move 33 from 3 to 7',\n",
              " 'move 1 from 6 to 3',\n",
              " 'move 1 from 4 to 8',\n",
              " 'move 1 from 8 to 9',\n",
              " 'move 4 from 4 to 3',\n",
              " 'move 9 from 4 to 7',\n",
              " 'move 3 from 4 to 8',\n",
              " 'move 11 from 7 to 2',\n",
              " 'move 14 from 7 to 6',\n",
              " 'move 1 from 8 to 3',\n",
              " 'move 1 from 9 to 5',\n",
              " 'move 1 from 5 to 1',\n",
              " 'move 8 from 2 to 9',\n",
              " 'move 1 from 8 to 7',\n",
              " 'move 6 from 3 to 6',\n",
              " 'move 18 from 6 to 4',\n",
              " 'move 1 from 2 to 7',\n",
              " 'move 1 from 3 to 6',\n",
              " 'move 14 from 4 to 2',\n",
              " 'move 4 from 4 to 3',\n",
              " 'move 3 from 6 to 3',\n",
              " 'move 19 from 2 to 6',\n",
              " 'move 16 from 6 to 8',\n",
              " 'move 1 from 1 to 8',\n",
              " 'move 16 from 8 to 7',\n",
              " 'move 3 from 9 to 4',\n",
              " 'move 3 from 6 to 2',\n",
              " 'move 3 from 4 to 7',\n",
              " 'move 4 from 3 to 2',\n",
              " 'move 2 from 2 to 4',\n",
              " 'move 4 from 9 to 8',\n",
              " 'move 5 from 2 to 8',\n",
              " 'move 29 from 7 to 5',\n",
              " 'move 6 from 8 to 2',\n",
              " 'move 2 from 3 to 4',\n",
              " 'move 2 from 2 to 6',\n",
              " 'move 1 from 3 to 5',\n",
              " 'move 4 from 2 to 6',\n",
              " 'move 8 from 7 to 5',\n",
              " 'move 1 from 7 to 5',\n",
              " 'move 2 from 8 to 6',\n",
              " 'move 1 from 8 to 7',\n",
              " 'move 6 from 6 to 1',\n",
              " 'move 2 from 7 to 6',\n",
              " 'move 1 from 9 to 7',\n",
              " 'move 3 from 1 to 7',\n",
              " 'move 3 from 6 to 1',\n",
              " 'move 1 from 7 to 6',\n",
              " 'move 3 from 1 to 6',\n",
              " 'move 1 from 1 to 5',\n",
              " 'move 4 from 6 to 3',\n",
              " 'move 2 from 4 to 2',\n",
              " 'move 38 from 5 to 6',\n",
              " 'move 3 from 3 to 8',\n",
              " 'move 4 from 8 to 6',\n",
              " 'move 22 from 6 to 8',\n",
              " 'move 1 from 7 to 8',\n",
              " 'move 2 from 6 to 2',\n",
              " 'move 2 from 5 to 2',\n",
              " 'move 2 from 2 to 1',\n",
              " 'move 2 from 4 to 6',\n",
              " 'move 2 from 2 to 1',\n",
              " 'move 1 from 1 to 9',\n",
              " 'move 2 from 8 to 5',\n",
              " 'move 2 from 2 to 8',\n",
              " 'move 2 from 5 to 2',\n",
              " 'move 2 from 7 to 2',\n",
              " 'move 1 from 3 to 1',\n",
              " 'move 4 from 1 to 8',\n",
              " 'move 1 from 9 to 5',\n",
              " 'move 1 from 1 to 7',\n",
              " 'move 1 from 2 to 8',\n",
              " 'move 29 from 8 to 3',\n",
              " 'move 15 from 3 to 2',\n",
              " 'move 12 from 2 to 5',\n",
              " 'move 1 from 1 to 6',\n",
              " 'move 3 from 2 to 1',\n",
              " 'move 6 from 3 to 8',\n",
              " 'move 2 from 3 to 9',\n",
              " 'move 1 from 6 to 7',\n",
              " 'move 12 from 5 to 8',\n",
              " 'move 2 from 7 to 1',\n",
              " 'move 2 from 1 to 4',\n",
              " 'move 2 from 4 to 2',\n",
              " 'move 1 from 5 to 8',\n",
              " 'move 1 from 3 to 6',\n",
              " 'move 2 from 3 to 4',\n",
              " 'move 3 from 1 to 4',\n",
              " 'move 5 from 8 to 9',\n",
              " 'move 4 from 4 to 2',\n",
              " 'move 5 from 9 to 6',\n",
              " 'move 26 from 6 to 8',\n",
              " 'move 7 from 2 to 8',\n",
              " 'move 3 from 3 to 1',\n",
              " 'move 1 from 6 to 4',\n",
              " 'move 14 from 8 to 6',\n",
              " 'move 2 from 1 to 2',\n",
              " 'move 1 from 1 to 3',\n",
              " 'move 18 from 8 to 5',\n",
              " 'move 15 from 8 to 2',\n",
              " 'move 5 from 6 to 8',\n",
              " 'move 4 from 5 to 8',\n",
              " 'move 7 from 2 to 5',\n",
              " 'move 2 from 9 to 6',\n",
              " 'move 1 from 2 to 1',\n",
              " 'move 7 from 2 to 3',\n",
              " 'move 7 from 8 to 1',\n",
              " 'move 2 from 6 to 3',\n",
              " 'move 1 from 4 to 6',\n",
              " 'move 2 from 8 to 6',\n",
              " 'move 10 from 3 to 9',\n",
              " 'move 18 from 5 to 8',\n",
              " 'move 1 from 4 to 6',\n",
              " 'move 2 from 1 to 9',\n",
              " 'move 12 from 6 to 9',\n",
              " 'move 1 from 6 to 9',\n",
              " 'move 9 from 8 to 4',\n",
              " 'move 6 from 1 to 2',\n",
              " 'move 3 from 8 to 9',\n",
              " 'move 14 from 9 to 8',\n",
              " 'move 5 from 4 to 9',\n",
              " 'move 2 from 4 to 5',\n",
              " 'move 16 from 8 to 5',\n",
              " 'move 12 from 5 to 4',\n",
              " 'move 7 from 5 to 1',\n",
              " 'move 1 from 1 to 8',\n",
              " 'move 1 from 5 to 8',\n",
              " 'move 1 from 4 to 9',\n",
              " 'move 8 from 2 to 7',\n",
              " 'move 12 from 4 to 3',\n",
              " 'move 2 from 2 to 5',\n",
              " 'move 1 from 3 to 2',\n",
              " 'move 3 from 5 to 4',\n",
              " 'move 1 from 4 to 8',\n",
              " 'move 3 from 4 to 9',\n",
              " 'move 18 from 9 to 8',\n",
              " 'move 8 from 3 to 1',\n",
              " 'move 5 from 8 to 1',\n",
              " 'move 1 from 2 to 5',\n",
              " 'move 3 from 7 to 1',\n",
              " 'move 3 from 7 to 5',\n",
              " 'move 1 from 8 to 9',\n",
              " 'move 5 from 9 to 7',\n",
              " 'move 2 from 3 to 6',\n",
              " 'move 16 from 1 to 4',\n",
              " 'move 14 from 8 to 6',\n",
              " 'move 2 from 5 to 6',\n",
              " 'move 4 from 1 to 6',\n",
              " 'move 3 from 4 to 9',\n",
              " 'move 15 from 6 to 1',\n",
              " 'move 5 from 4 to 3',\n",
              " 'move 2 from 8 to 2',\n",
              " 'move 6 from 4 to 3',\n",
              " 'move 15 from 1 to 5',\n",
              " 'move 14 from 5 to 3',\n",
              " 'move 5 from 6 to 2',\n",
              " 'move 2 from 4 to 7',\n",
              " 'move 1 from 1 to 6',\n",
              " 'move 2 from 3 to 4',\n",
              " 'move 3 from 8 to 1',\n",
              " 'move 1 from 5 to 1',\n",
              " 'move 5 from 7 to 1',\n",
              " 'move 7 from 1 to 3',\n",
              " 'move 3 from 6 to 2',\n",
              " 'move 4 from 9 to 5',\n",
              " 'move 2 from 4 to 3',\n",
              " 'move 4 from 7 to 9',\n",
              " 'move 8 from 2 to 9',\n",
              " 'move 1 from 9 to 1',\n",
              " 'move 2 from 2 to 8',\n",
              " 'move 11 from 9 to 1',\n",
              " 'move 6 from 5 to 1',\n",
              " 'move 21 from 3 to 2',\n",
              " 'move 1 from 8 to 5',\n",
              " 'move 5 from 1 to 7',\n",
              " 'move 12 from 1 to 8',\n",
              " 'move 1 from 5 to 2',\n",
              " 'move 5 from 3 to 2',\n",
              " 'move 4 from 7 to 2',\n",
              " 'move 1 from 7 to 8',\n",
              " 'move 13 from 2 to 5',\n",
              " 'move 13 from 2 to 5',\n",
              " 'move 2 from 2 to 1',\n",
              " 'move 1 from 1 to 9',\n",
              " 'move 26 from 5 to 4',\n",
              " 'move 3 from 2 to 7',\n",
              " 'move 2 from 3 to 9',\n",
              " 'move 1 from 1 to 6',\n",
              " 'move 5 from 3 to 2',\n",
              " 'move 2 from 9 to 6',\n",
              " 'move 1 from 1 to 8',\n",
              " 'move 3 from 1 to 6',\n",
              " 'move 24 from 4 to 9',\n",
              " 'move 13 from 9 to 1',\n",
              " 'move 2 from 6 to 2',\n",
              " 'move 3 from 7 to 5',\n",
              " 'move 2 from 9 to 7',\n",
              " 'move 8 from 8 to 3',\n",
              " 'move 4 from 8 to 5',\n",
              " 'move 2 from 7 to 2',\n",
              " 'move 8 from 9 to 4',\n",
              " 'move 10 from 1 to 2',\n",
              " 'move 1 from 9 to 1',\n",
              " 'move 1 from 9 to 2',\n",
              " 'move 4 from 3 to 2',\n",
              " 'move 4 from 1 to 8',\n",
              " 'move 3 from 4 to 8',\n",
              " 'move 12 from 2 to 3',\n",
              " 'move 3 from 4 to 6',\n",
              " 'move 5 from 3 to 2',\n",
              " 'move 9 from 3 to 9',\n",
              " 'move 4 from 2 to 9',\n",
              " 'move 1 from 3 to 7',\n",
              " 'move 6 from 8 to 2',\n",
              " 'move 4 from 6 to 8',\n",
              " 'move 1 from 3 to 8',\n",
              " 'move 6 from 9 to 1',\n",
              " 'move 2 from 1 to 8',\n",
              " 'move 5 from 5 to 8',\n",
              " 'move 3 from 6 to 8',\n",
              " 'move 1 from 5 to 1',\n",
              " 'move 7 from 8 to 2',\n",
              " 'move 1 from 1 to 4',\n",
              " 'move 1 from 4 to 6',\n",
              " 'move 1 from 9 to 4',\n",
              " 'move 1 from 5 to 9',\n",
              " 'move 1 from 4 to 7',\n",
              " 'move 12 from 8 to 2',\n",
              " 'move 4 from 4 to 3',\n",
              " 'move 2 from 3 to 1',\n",
              " 'move 1 from 7 to 2',\n",
              " 'move 1 from 6 to 8',\n",
              " 'move 1 from 8 to 6',\n",
              " 'move 4 from 9 to 3',\n",
              " 'move 1 from 9 to 3',\n",
              " 'move 13 from 2 to 3',\n",
              " 'move 3 from 1 to 7',\n",
              " 'move 2 from 9 to 4',\n",
              " 'move 2 from 1 to 9',\n",
              " 'move 2 from 7 to 2',\n",
              " 'move 1 from 4 to 1',\n",
              " 'move 2 from 7 to 5',\n",
              " 'move 14 from 3 to 8',\n",
              " 'move 1 from 8 to 5',\n",
              " 'move 2 from 1 to 4',\n",
              " 'move 2 from 3 to 4',\n",
              " 'move 2 from 3 to 4',\n",
              " 'move 10 from 8 to 3',\n",
              " 'move 2 from 4 to 8',\n",
              " 'move 1 from 9 to 3',\n",
              " 'move 3 from 2 to 3',\n",
              " 'move 16 from 2 to 4',\n",
              " 'move 1 from 8 to 5',\n",
              " 'move 11 from 3 to 4',\n",
              " 'move 2 from 3 to 7',\n",
              " 'move 3 from 5 to 1',\n",
              " 'move 1 from 1 to 2',\n",
              " 'move 3 from 2 to 5',\n",
              " 'move 1 from 1 to 9',\n",
              " 'move 2 from 7 to 4',\n",
              " 'move 8 from 4 to 3',\n",
              " 'move 1 from 6 to 7',\n",
              " 'move 1 from 8 to 6',\n",
              " 'move 1 from 5 to 1',\n",
              " 'move 6 from 3 to 5',\n",
              " 'move 2 from 1 to 3',\n",
              " 'move 5 from 5 to 7',\n",
              " 'move 2 from 7 to 2',\n",
              " 'move 2 from 3 to 4',\n",
              " 'move 4 from 7 to 1',\n",
              " 'move 1 from 6 to 8',\n",
              " 'move 1 from 2 to 1',\n",
              " 'move 3 from 1 to 6',\n",
              " 'move 2 from 9 to 6',\n",
              " 'move 8 from 2 to 1',\n",
              " 'move 2 from 6 to 2',\n",
              " 'move 2 from 6 to 3',\n",
              " 'move 6 from 3 to 5',\n",
              " 'move 2 from 4 to 6',\n",
              " 'move 2 from 2 to 9',\n",
              " 'move 1 from 8 to 6',\n",
              " 'move 2 from 6 to 5',\n",
              " 'move 1 from 9 to 1',\n",
              " 'move 11 from 5 to 8',\n",
              " 'move 7 from 8 to 6',\n",
              " 'move 23 from 4 to 1',\n",
              " 'move 1 from 5 to 9',\n",
              " 'move 1 from 4 to 6',\n",
              " 'move 2 from 4 to 8',\n",
              " 'move 1 from 3 to 1',\n",
              " 'move 6 from 8 to 3',\n",
              " 'move 2 from 9 to 6',\n",
              " 'move 3 from 6 to 1',\n",
              " 'move 3 from 8 to 7',\n",
              " 'move 1 from 3 to 6',\n",
              " 'move 18 from 1 to 2',\n",
              " 'move 5 from 3 to 8',\n",
              " 'move 13 from 2 to 9',\n",
              " 'move 5 from 9 to 7',\n",
              " 'move 1 from 8 to 6',\n",
              " 'move 5 from 2 to 6',\n",
              " 'move 2 from 1 to 7',\n",
              " 'move 9 from 7 to 8',\n",
              " 'move 11 from 8 to 6',\n",
              " 'move 2 from 9 to 4',\n",
              " 'move 16 from 6 to 1',\n",
              " 'move 2 from 4 to 6',\n",
              " 'move 1 from 8 to 9',\n",
              " 'move 1 from 7 to 6',\n",
              " 'move 8 from 1 to 5',\n",
              " 'move 3 from 6 to 5',\n",
              " 'move 8 from 6 to 4',\n",
              " 'move 7 from 9 to 5',\n",
              " 'move 1 from 8 to 1',\n",
              " 'move 6 from 5 to 1',\n",
              " 'move 9 from 5 to 7',\n",
              " 'move 4 from 7 to 9',\n",
              " 'move 1 from 4 to 8',\n",
              " 'move 1 from 8 to 3',\n",
              " 'move 1 from 1 to 8',\n",
              " 'move 1 from 8 to 7',\n",
              " 'move 22 from 1 to 3',\n",
              " 'move 1 from 6 to 7',\n",
              " 'move 2 from 9 to 4',\n",
              " 'move 1 from 9 to 6',\n",
              " 'move 1 from 9 to 4',\n",
              " 'move 10 from 4 to 3',\n",
              " 'move 1 from 1 to 2',\n",
              " 'move 2 from 5 to 4',\n",
              " 'move 27 from 3 to 8',\n",
              " 'move 5 from 3 to 9']"
            ]
          },
          "metadata": {},
          "execution_count": 3
        }
      ]
    },
    {
      "cell_type": "code",
      "source": [],
      "metadata": {
        "id": "shbRDX1OSVwY"
      },
      "execution_count": null,
      "outputs": []
    }
  ]
}